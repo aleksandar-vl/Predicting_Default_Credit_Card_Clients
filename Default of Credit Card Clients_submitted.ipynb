{
 "cells": [
  {
   "cell_type": "code",
   "execution_count": 1,
   "metadata": {},
   "outputs": [],
   "source": [
    "%matplotlib inline"
   ]
  },
  {
   "cell_type": "code",
   "execution_count": 196,
   "metadata": {},
   "outputs": [],
   "source": [
    "import numpy as np\n",
    "import pandas as pd\n",
    "import matplotlib.pyplot as plt\n",
    "\n",
    "from sklearn.model_selection import train_test_split, StratifiedKFold, GridSearchCV, cross_val_score\n",
    "from sklearn.preprocessing import MinMaxScaler\n",
    "from sklearn.tree import DecisionTreeClassifier\n",
    "from sklearn.metrics import f1_score, roc_auc_score, classification_report\n",
    "from sklearn.ensemble import RandomForestClassifier, AdaBoostClassifier\n",
    "from sklearn.svm import LinearSVC, SVC\n",
    "from sklearn.decomposition import PCA\n",
    "import xgboost as xgb\n",
    "import pickle"
   ]
  },
  {
   "cell_type": "markdown",
   "metadata": {},
   "source": [
    "# Default of Credit Card Clients Dataset\n",
    "## ML prediction of client defaulting next month\n",
    "### Author: Aleksandar Vladimirov"
   ]
  },
  {
   "cell_type": "markdown",
   "metadata": {},
   "source": [
    "Abstract: Recently a colleague of mine was rejected a loan(credit card). Until then I've only heard that your ML algorithum might affect people's lives and that got me interested/wondering can we predict the default of a customer and are the algorithms trained on the available dataset always correct."
   ]
  },
  {
   "cell_type": "markdown",
   "metadata": {},
   "source": [
    "Table of content:\n",
    "1. Introduction\n",
    "2. Importing and reading the data \n",
    "3. Data Preprocessing, Exploratory Data Analysis (EDA) and Predictive Modeling Preparation  \n",
    "\n",
    "4. Predictive models  \n",
    "    4.1 Decision trees    \n",
    "    4.2 Random forests   \n",
    "    4.3 Linear SVM\n",
    "    4.4 Gaussian SVM\n",
    "    4.5 Adaboost\n",
    "    4.6 Test results\n",
    "    4.7 Further algorith improvement\n",
    "5. Conclusion\n",
    "6. References"
   ]
  },
  {
   "cell_type": "markdown",
   "metadata": {},
   "source": [
    "## 1. Introduction"
   ]
  },
  {
   "cell_type": "markdown",
   "metadata": {},
   "source": [
    "Credit risk/score or the probability of a client defaulting is quite an interesting topic. It would be interesting to be from the inside of a big consumer credit reporting agency and really see how if a person missed a payment once this affects his/her credit score and potentially their life. Since this is not the case and another big data breach like the one for Equifax hasn't happened with the data made publicly available the UCI Default of Credit Card Clients Dataset will suffice.\n",
    "\n",
    "My goal is to see if I can predict the default of a client next month and to check if algorithms trained and tested on the available dataset can be absolutely correct (100%). This will be and my goal.\n",
    "\n",
    "Similar attempts have been made and there are numberous kernels in Kaggle along with this dataset."
   ]
  },
  {
   "cell_type": "markdown",
   "metadata": {},
   "source": [
    "## 2. Importing and reading the data"
   ]
  },
  {
   "cell_type": "code",
   "execution_count": 3,
   "metadata": {},
   "outputs": [],
   "source": [
    "default_data = pd.read_csv(\"data/UCI_Credit_Card.csv\")"
   ]
  },
  {
   "cell_type": "markdown",
   "metadata": {},
   "source": [
    "Before taking a peak at what we've read, here's the description of the 25 variables from Kaggle:\n",
    "\n",
    "There are 25 variables:\n",
    "\n",
    "ID: ID of each client\n",
    "\n",
    "- LIMIT_BAL: Amount of given credit in NT dollars (includes individual and family/supplementary credit\n",
    "- SEX: Gender (1=male, 2=female)\n",
    "- EDUCATION: (1=graduate school, 2=university, 3=high school, 4=others, 5=unknown, 6=unknown)\n",
    "- MARRIAGE: Marital status (1=married, 2=single, 3=others)\n",
    "- AGE: Age in years\n",
    "- PAY_0: Repayment status in September, 2005 (-1=pay duly, 1=payment delay for one month, 2=payment delay for two months, ... 8=payment delay for eight months, 9=payment delay for nine months and above)\n",
    "- PAY_2: Repayment status in August, 2005 (scale same as above)\n",
    "- PAY_3: Repayment status in July, 2005 (scale same as above)\n",
    "- PAY_4: Repayment status in June, 2005 (scale same as above)\n",
    "- PAY_5: Repayment status in May, 2005 (scale same as above)\n",
    "- PAY_6: Repayment status in April, 2005 (scale same as above)\n",
    "- BILL_AMT1: Amount of bill statement in September, 2005 (NT dollar)\n",
    "- BILL_AMT2: Amount of bill statement in August, 2005 (NT dollar)\n",
    "- BILL_AMT3: Amount of bill statement in July, 2005 (NT dollar)\n",
    "- BILL_AMT4: Amount of bill statement in June, 2005 (NT dollar)\n",
    "- BILL_AMT5: Amount of bill statement in May, 2005 (NT dollar)\n",
    "- BILL_AMT6: Amount of bill statement in April, 2005 (NT dollar)\n",
    "- PAY_AMT1: Amount of previous payment in September, 2005 (NT dollar)\n",
    "- PAY_AMT2: Amount of previous payment in August, 2005 (NT dollar)\n",
    "- PAY_AMT3: Amount of previous payment in July, 2005 (NT dollar)\n",
    "- PAY_AMT4: Amount of previous payment in June, 2005 (NT dollar)\n",
    "- PAY_AMT5: Amount of previous payment in May, 2005 (NT dollar)\n",
    "- PAY_AMT6: Amount of previous payment in April, 2005 (NT dollar)\n",
    "- default.payment.next.month: Default payment (1=yes, 0=no)"
   ]
  },
  {
   "cell_type": "code",
   "execution_count": 4,
   "metadata": {},
   "outputs": [
    {
     "data": {
      "text/html": [
       "<div>\n",
       "<style scoped>\n",
       "    .dataframe tbody tr th:only-of-type {\n",
       "        vertical-align: middle;\n",
       "    }\n",
       "\n",
       "    .dataframe tbody tr th {\n",
       "        vertical-align: top;\n",
       "    }\n",
       "\n",
       "    .dataframe thead th {\n",
       "        text-align: right;\n",
       "    }\n",
       "</style>\n",
       "<table border=\"1\" class=\"dataframe\">\n",
       "  <thead>\n",
       "    <tr style=\"text-align: right;\">\n",
       "      <th></th>\n",
       "      <th>ID</th>\n",
       "      <th>LIMIT_BAL</th>\n",
       "      <th>SEX</th>\n",
       "      <th>EDUCATION</th>\n",
       "      <th>MARRIAGE</th>\n",
       "      <th>AGE</th>\n",
       "      <th>PAY_0</th>\n",
       "      <th>PAY_2</th>\n",
       "      <th>PAY_3</th>\n",
       "      <th>PAY_4</th>\n",
       "      <th>...</th>\n",
       "      <th>BILL_AMT4</th>\n",
       "      <th>BILL_AMT5</th>\n",
       "      <th>BILL_AMT6</th>\n",
       "      <th>PAY_AMT1</th>\n",
       "      <th>PAY_AMT2</th>\n",
       "      <th>PAY_AMT3</th>\n",
       "      <th>PAY_AMT4</th>\n",
       "      <th>PAY_AMT5</th>\n",
       "      <th>PAY_AMT6</th>\n",
       "      <th>default.payment.next.month</th>\n",
       "    </tr>\n",
       "  </thead>\n",
       "  <tbody>\n",
       "    <tr>\n",
       "      <th>0</th>\n",
       "      <td>1</td>\n",
       "      <td>20000.0</td>\n",
       "      <td>2</td>\n",
       "      <td>2</td>\n",
       "      <td>1</td>\n",
       "      <td>24</td>\n",
       "      <td>2</td>\n",
       "      <td>2</td>\n",
       "      <td>-1</td>\n",
       "      <td>-1</td>\n",
       "      <td>...</td>\n",
       "      <td>0.0</td>\n",
       "      <td>0.0</td>\n",
       "      <td>0.0</td>\n",
       "      <td>0.0</td>\n",
       "      <td>689.0</td>\n",
       "      <td>0.0</td>\n",
       "      <td>0.0</td>\n",
       "      <td>0.0</td>\n",
       "      <td>0.0</td>\n",
       "      <td>1</td>\n",
       "    </tr>\n",
       "    <tr>\n",
       "      <th>1</th>\n",
       "      <td>2</td>\n",
       "      <td>120000.0</td>\n",
       "      <td>2</td>\n",
       "      <td>2</td>\n",
       "      <td>2</td>\n",
       "      <td>26</td>\n",
       "      <td>-1</td>\n",
       "      <td>2</td>\n",
       "      <td>0</td>\n",
       "      <td>0</td>\n",
       "      <td>...</td>\n",
       "      <td>3272.0</td>\n",
       "      <td>3455.0</td>\n",
       "      <td>3261.0</td>\n",
       "      <td>0.0</td>\n",
       "      <td>1000.0</td>\n",
       "      <td>1000.0</td>\n",
       "      <td>1000.0</td>\n",
       "      <td>0.0</td>\n",
       "      <td>2000.0</td>\n",
       "      <td>1</td>\n",
       "    </tr>\n",
       "    <tr>\n",
       "      <th>2</th>\n",
       "      <td>3</td>\n",
       "      <td>90000.0</td>\n",
       "      <td>2</td>\n",
       "      <td>2</td>\n",
       "      <td>2</td>\n",
       "      <td>34</td>\n",
       "      <td>0</td>\n",
       "      <td>0</td>\n",
       "      <td>0</td>\n",
       "      <td>0</td>\n",
       "      <td>...</td>\n",
       "      <td>14331.0</td>\n",
       "      <td>14948.0</td>\n",
       "      <td>15549.0</td>\n",
       "      <td>1518.0</td>\n",
       "      <td>1500.0</td>\n",
       "      <td>1000.0</td>\n",
       "      <td>1000.0</td>\n",
       "      <td>1000.0</td>\n",
       "      <td>5000.0</td>\n",
       "      <td>0</td>\n",
       "    </tr>\n",
       "    <tr>\n",
       "      <th>3</th>\n",
       "      <td>4</td>\n",
       "      <td>50000.0</td>\n",
       "      <td>2</td>\n",
       "      <td>2</td>\n",
       "      <td>1</td>\n",
       "      <td>37</td>\n",
       "      <td>0</td>\n",
       "      <td>0</td>\n",
       "      <td>0</td>\n",
       "      <td>0</td>\n",
       "      <td>...</td>\n",
       "      <td>28314.0</td>\n",
       "      <td>28959.0</td>\n",
       "      <td>29547.0</td>\n",
       "      <td>2000.0</td>\n",
       "      <td>2019.0</td>\n",
       "      <td>1200.0</td>\n",
       "      <td>1100.0</td>\n",
       "      <td>1069.0</td>\n",
       "      <td>1000.0</td>\n",
       "      <td>0</td>\n",
       "    </tr>\n",
       "    <tr>\n",
       "      <th>4</th>\n",
       "      <td>5</td>\n",
       "      <td>50000.0</td>\n",
       "      <td>1</td>\n",
       "      <td>2</td>\n",
       "      <td>1</td>\n",
       "      <td>57</td>\n",
       "      <td>-1</td>\n",
       "      <td>0</td>\n",
       "      <td>-1</td>\n",
       "      <td>0</td>\n",
       "      <td>...</td>\n",
       "      <td>20940.0</td>\n",
       "      <td>19146.0</td>\n",
       "      <td>19131.0</td>\n",
       "      <td>2000.0</td>\n",
       "      <td>36681.0</td>\n",
       "      <td>10000.0</td>\n",
       "      <td>9000.0</td>\n",
       "      <td>689.0</td>\n",
       "      <td>679.0</td>\n",
       "      <td>0</td>\n",
       "    </tr>\n",
       "  </tbody>\n",
       "</table>\n",
       "<p>5 rows × 25 columns</p>\n",
       "</div>"
      ],
      "text/plain": [
       "   ID  LIMIT_BAL  SEX  EDUCATION  MARRIAGE  AGE  PAY_0  PAY_2  PAY_3  PAY_4  \\\n",
       "0   1    20000.0    2          2         1   24      2      2     -1     -1   \n",
       "1   2   120000.0    2          2         2   26     -1      2      0      0   \n",
       "2   3    90000.0    2          2         2   34      0      0      0      0   \n",
       "3   4    50000.0    2          2         1   37      0      0      0      0   \n",
       "4   5    50000.0    1          2         1   57     -1      0     -1      0   \n",
       "\n",
       "   ...  BILL_AMT4  BILL_AMT5  BILL_AMT6  PAY_AMT1  PAY_AMT2  PAY_AMT3  \\\n",
       "0  ...        0.0        0.0        0.0       0.0     689.0       0.0   \n",
       "1  ...     3272.0     3455.0     3261.0       0.0    1000.0    1000.0   \n",
       "2  ...    14331.0    14948.0    15549.0    1518.0    1500.0    1000.0   \n",
       "3  ...    28314.0    28959.0    29547.0    2000.0    2019.0    1200.0   \n",
       "4  ...    20940.0    19146.0    19131.0    2000.0   36681.0   10000.0   \n",
       "\n",
       "   PAY_AMT4  PAY_AMT5  PAY_AMT6  default.payment.next.month  \n",
       "0       0.0       0.0       0.0                           1  \n",
       "1    1000.0       0.0    2000.0                           1  \n",
       "2    1000.0    1000.0    5000.0                           0  \n",
       "3    1100.0    1069.0    1000.0                           0  \n",
       "4    9000.0     689.0     679.0                           0  \n",
       "\n",
       "[5 rows x 25 columns]"
      ]
     },
     "execution_count": 4,
     "metadata": {},
     "output_type": "execute_result"
    }
   ],
   "source": [
    "#Let's take a peek at what we've read.\n",
    "default_data.head()"
   ]
  },
  {
   "cell_type": "code",
   "execution_count": 5,
   "metadata": {},
   "outputs": [
    {
     "data": {
      "text/plain": [
       "(30000, 25)"
      ]
     },
     "execution_count": 5,
     "metadata": {},
     "output_type": "execute_result"
    }
   ],
   "source": [
    "#Let's see if we have all the data read into our dataframe.\n",
    "default_data.shape"
   ]
  },
  {
   "cell_type": "code",
   "execution_count": 6,
   "metadata": {},
   "outputs": [
    {
     "data": {
      "text/plain": [
       "ID                            False\n",
       "LIMIT_BAL                     False\n",
       "SEX                           False\n",
       "EDUCATION                     False\n",
       "MARRIAGE                      False\n",
       "AGE                           False\n",
       "PAY_0                         False\n",
       "PAY_2                         False\n",
       "PAY_3                         False\n",
       "PAY_4                         False\n",
       "PAY_5                         False\n",
       "PAY_6                         False\n",
       "BILL_AMT1                     False\n",
       "BILL_AMT2                     False\n",
       "BILL_AMT3                     False\n",
       "BILL_AMT4                     False\n",
       "BILL_AMT5                     False\n",
       "BILL_AMT6                     False\n",
       "PAY_AMT1                      False\n",
       "PAY_AMT2                      False\n",
       "PAY_AMT3                      False\n",
       "PAY_AMT4                      False\n",
       "PAY_AMT5                      False\n",
       "PAY_AMT6                      False\n",
       "default.payment.next.month    False\n",
       "dtype: bool"
      ]
     },
     "execution_count": 6,
     "metadata": {},
     "output_type": "execute_result"
    }
   ],
   "source": [
    "#Now will check for any missing values.\n",
    "default_data.isna().any()"
   ]
  },
  {
   "cell_type": "markdown",
   "metadata": {},
   "source": [
    "## 3. Data Preprocessing, Exploratory Data Analysis (EDA) and Predictive Modeling Preparation"
   ]
  },
  {
   "cell_type": "markdown",
   "metadata": {},
   "source": [
    "### 3.1 Data Preprocessing"
   ]
  },
  {
   "cell_type": "markdown",
   "metadata": {},
   "source": [
    "After initial look at the table there are several things which I'd like to do:\n",
    "\n",
    "- set the ID column as index column\n",
    "- columns \"SEX\", \"EDUCATION\", \"MARRIAGE\" are categories\n",
    "- all columns should be made with lower-case as per convention and for easier referencing later.\n",
    "- rename comun \"pay_0\" to \"pay_1\" as it seems more logical and I will avoid asking myself later - did I miss a column there?"
   ]
  },
  {
   "cell_type": "code",
   "execution_count": 7,
   "metadata": {},
   "outputs": [],
   "source": [
    "default_data.set_index('ID', inplace=True)"
   ]
  },
  {
   "cell_type": "code",
   "execution_count": 8,
   "metadata": {},
   "outputs": [],
   "source": [
    "default_data.columns = map(str.lower, default_data.columns)"
   ]
  },
  {
   "cell_type": "code",
   "execution_count": 9,
   "metadata": {},
   "outputs": [],
   "source": [
    "default_data.rename(columns={\"pay_0\":\"pay_1\", \"default.payment.next.month\":\"dflt_pmt\"}, inplace = True)"
   ]
  },
  {
   "cell_type": "code",
   "execution_count": 10,
   "metadata": {},
   "outputs": [
    {
     "data": {
      "text/html": [
       "<div>\n",
       "<style scoped>\n",
       "    .dataframe tbody tr th:only-of-type {\n",
       "        vertical-align: middle;\n",
       "    }\n",
       "\n",
       "    .dataframe tbody tr th {\n",
       "        vertical-align: top;\n",
       "    }\n",
       "\n",
       "    .dataframe thead th {\n",
       "        text-align: right;\n",
       "    }\n",
       "</style>\n",
       "<table border=\"1\" class=\"dataframe\">\n",
       "  <thead>\n",
       "    <tr style=\"text-align: right;\">\n",
       "      <th></th>\n",
       "      <th>limit_bal</th>\n",
       "      <th>sex</th>\n",
       "      <th>education</th>\n",
       "      <th>marriage</th>\n",
       "      <th>age</th>\n",
       "      <th>pay_1</th>\n",
       "      <th>pay_2</th>\n",
       "      <th>pay_3</th>\n",
       "      <th>pay_4</th>\n",
       "      <th>pay_5</th>\n",
       "      <th>...</th>\n",
       "      <th>bill_amt4</th>\n",
       "      <th>bill_amt5</th>\n",
       "      <th>bill_amt6</th>\n",
       "      <th>pay_amt1</th>\n",
       "      <th>pay_amt2</th>\n",
       "      <th>pay_amt3</th>\n",
       "      <th>pay_amt4</th>\n",
       "      <th>pay_amt5</th>\n",
       "      <th>pay_amt6</th>\n",
       "      <th>dflt_pmt</th>\n",
       "    </tr>\n",
       "    <tr>\n",
       "      <th>ID</th>\n",
       "      <th></th>\n",
       "      <th></th>\n",
       "      <th></th>\n",
       "      <th></th>\n",
       "      <th></th>\n",
       "      <th></th>\n",
       "      <th></th>\n",
       "      <th></th>\n",
       "      <th></th>\n",
       "      <th></th>\n",
       "      <th></th>\n",
       "      <th></th>\n",
       "      <th></th>\n",
       "      <th></th>\n",
       "      <th></th>\n",
       "      <th></th>\n",
       "      <th></th>\n",
       "      <th></th>\n",
       "      <th></th>\n",
       "      <th></th>\n",
       "      <th></th>\n",
       "    </tr>\n",
       "  </thead>\n",
       "  <tbody>\n",
       "    <tr>\n",
       "      <th>1</th>\n",
       "      <td>20000.0</td>\n",
       "      <td>2</td>\n",
       "      <td>2</td>\n",
       "      <td>1</td>\n",
       "      <td>24</td>\n",
       "      <td>2</td>\n",
       "      <td>2</td>\n",
       "      <td>-1</td>\n",
       "      <td>-1</td>\n",
       "      <td>-2</td>\n",
       "      <td>...</td>\n",
       "      <td>0.0</td>\n",
       "      <td>0.0</td>\n",
       "      <td>0.0</td>\n",
       "      <td>0.0</td>\n",
       "      <td>689.0</td>\n",
       "      <td>0.0</td>\n",
       "      <td>0.0</td>\n",
       "      <td>0.0</td>\n",
       "      <td>0.0</td>\n",
       "      <td>1</td>\n",
       "    </tr>\n",
       "    <tr>\n",
       "      <th>2</th>\n",
       "      <td>120000.0</td>\n",
       "      <td>2</td>\n",
       "      <td>2</td>\n",
       "      <td>2</td>\n",
       "      <td>26</td>\n",
       "      <td>-1</td>\n",
       "      <td>2</td>\n",
       "      <td>0</td>\n",
       "      <td>0</td>\n",
       "      <td>0</td>\n",
       "      <td>...</td>\n",
       "      <td>3272.0</td>\n",
       "      <td>3455.0</td>\n",
       "      <td>3261.0</td>\n",
       "      <td>0.0</td>\n",
       "      <td>1000.0</td>\n",
       "      <td>1000.0</td>\n",
       "      <td>1000.0</td>\n",
       "      <td>0.0</td>\n",
       "      <td>2000.0</td>\n",
       "      <td>1</td>\n",
       "    </tr>\n",
       "    <tr>\n",
       "      <th>3</th>\n",
       "      <td>90000.0</td>\n",
       "      <td>2</td>\n",
       "      <td>2</td>\n",
       "      <td>2</td>\n",
       "      <td>34</td>\n",
       "      <td>0</td>\n",
       "      <td>0</td>\n",
       "      <td>0</td>\n",
       "      <td>0</td>\n",
       "      <td>0</td>\n",
       "      <td>...</td>\n",
       "      <td>14331.0</td>\n",
       "      <td>14948.0</td>\n",
       "      <td>15549.0</td>\n",
       "      <td>1518.0</td>\n",
       "      <td>1500.0</td>\n",
       "      <td>1000.0</td>\n",
       "      <td>1000.0</td>\n",
       "      <td>1000.0</td>\n",
       "      <td>5000.0</td>\n",
       "      <td>0</td>\n",
       "    </tr>\n",
       "    <tr>\n",
       "      <th>4</th>\n",
       "      <td>50000.0</td>\n",
       "      <td>2</td>\n",
       "      <td>2</td>\n",
       "      <td>1</td>\n",
       "      <td>37</td>\n",
       "      <td>0</td>\n",
       "      <td>0</td>\n",
       "      <td>0</td>\n",
       "      <td>0</td>\n",
       "      <td>0</td>\n",
       "      <td>...</td>\n",
       "      <td>28314.0</td>\n",
       "      <td>28959.0</td>\n",
       "      <td>29547.0</td>\n",
       "      <td>2000.0</td>\n",
       "      <td>2019.0</td>\n",
       "      <td>1200.0</td>\n",
       "      <td>1100.0</td>\n",
       "      <td>1069.0</td>\n",
       "      <td>1000.0</td>\n",
       "      <td>0</td>\n",
       "    </tr>\n",
       "    <tr>\n",
       "      <th>5</th>\n",
       "      <td>50000.0</td>\n",
       "      <td>1</td>\n",
       "      <td>2</td>\n",
       "      <td>1</td>\n",
       "      <td>57</td>\n",
       "      <td>-1</td>\n",
       "      <td>0</td>\n",
       "      <td>-1</td>\n",
       "      <td>0</td>\n",
       "      <td>0</td>\n",
       "      <td>...</td>\n",
       "      <td>20940.0</td>\n",
       "      <td>19146.0</td>\n",
       "      <td>19131.0</td>\n",
       "      <td>2000.0</td>\n",
       "      <td>36681.0</td>\n",
       "      <td>10000.0</td>\n",
       "      <td>9000.0</td>\n",
       "      <td>689.0</td>\n",
       "      <td>679.0</td>\n",
       "      <td>0</td>\n",
       "    </tr>\n",
       "  </tbody>\n",
       "</table>\n",
       "<p>5 rows × 24 columns</p>\n",
       "</div>"
      ],
      "text/plain": [
       "    limit_bal  sex  education  marriage  age  pay_1  pay_2  pay_3  pay_4  \\\n",
       "ID                                                                         \n",
       "1     20000.0    2          2         1   24      2      2     -1     -1   \n",
       "2    120000.0    2          2         2   26     -1      2      0      0   \n",
       "3     90000.0    2          2         2   34      0      0      0      0   \n",
       "4     50000.0    2          2         1   37      0      0      0      0   \n",
       "5     50000.0    1          2         1   57     -1      0     -1      0   \n",
       "\n",
       "    pay_5  ...  bill_amt4  bill_amt5  bill_amt6  pay_amt1  pay_amt2  pay_amt3  \\\n",
       "ID         ...                                                                  \n",
       "1      -2  ...        0.0        0.0        0.0       0.0     689.0       0.0   \n",
       "2       0  ...     3272.0     3455.0     3261.0       0.0    1000.0    1000.0   \n",
       "3       0  ...    14331.0    14948.0    15549.0    1518.0    1500.0    1000.0   \n",
       "4       0  ...    28314.0    28959.0    29547.0    2000.0    2019.0    1200.0   \n",
       "5       0  ...    20940.0    19146.0    19131.0    2000.0   36681.0   10000.0   \n",
       "\n",
       "    pay_amt4  pay_amt5  pay_amt6  dflt_pmt  \n",
       "ID                                          \n",
       "1        0.0       0.0       0.0         1  \n",
       "2     1000.0       0.0    2000.0         1  \n",
       "3     1000.0    1000.0    5000.0         0  \n",
       "4     1100.0    1069.0    1000.0         0  \n",
       "5     9000.0     689.0     679.0         0  \n",
       "\n",
       "[5 rows x 24 columns]"
      ]
     },
     "execution_count": 10,
     "metadata": {},
     "output_type": "execute_result"
    }
   ],
   "source": [
    "default_data.head()"
   ]
  },
  {
   "cell_type": "code",
   "execution_count": 11,
   "metadata": {},
   "outputs": [
    {
     "data": {
      "text/plain": [
       "limit_bal    float64\n",
       "sex            int64\n",
       "education      int64\n",
       "marriage       int64\n",
       "age            int64\n",
       "pay_1          int64\n",
       "pay_2          int64\n",
       "pay_3          int64\n",
       "pay_4          int64\n",
       "pay_5          int64\n",
       "pay_6          int64\n",
       "bill_amt1    float64\n",
       "bill_amt2    float64\n",
       "bill_amt3    float64\n",
       "bill_amt4    float64\n",
       "bill_amt5    float64\n",
       "bill_amt6    float64\n",
       "pay_amt1     float64\n",
       "pay_amt2     float64\n",
       "pay_amt3     float64\n",
       "pay_amt4     float64\n",
       "pay_amt5     float64\n",
       "pay_amt6     float64\n",
       "dflt_pmt       int64\n",
       "dtype: object"
      ]
     },
     "execution_count": 11,
     "metadata": {},
     "output_type": "execute_result"
    }
   ],
   "source": [
    "#And let's see if we need to change any of the data types.\n",
    "default_data.dtypes"
   ]
  },
  {
   "cell_type": "code",
   "execution_count": 12,
   "metadata": {},
   "outputs": [
    {
     "data": {
      "text/html": [
       "<div>\n",
       "<style scoped>\n",
       "    .dataframe tbody tr th:only-of-type {\n",
       "        vertical-align: middle;\n",
       "    }\n",
       "\n",
       "    .dataframe tbody tr th {\n",
       "        vertical-align: top;\n",
       "    }\n",
       "\n",
       "    .dataframe thead th {\n",
       "        text-align: right;\n",
       "    }\n",
       "</style>\n",
       "<table border=\"1\" class=\"dataframe\">\n",
       "  <thead>\n",
       "    <tr style=\"text-align: right;\">\n",
       "      <th></th>\n",
       "      <th>count</th>\n",
       "      <th>mean</th>\n",
       "      <th>std</th>\n",
       "      <th>min</th>\n",
       "      <th>25%</th>\n",
       "      <th>50%</th>\n",
       "      <th>75%</th>\n",
       "      <th>max</th>\n",
       "    </tr>\n",
       "  </thead>\n",
       "  <tbody>\n",
       "    <tr>\n",
       "      <th>limit_bal</th>\n",
       "      <td>30000.0</td>\n",
       "      <td>167484.322667</td>\n",
       "      <td>129747.661567</td>\n",
       "      <td>10000.0</td>\n",
       "      <td>50000.00</td>\n",
       "      <td>140000.0</td>\n",
       "      <td>240000.00</td>\n",
       "      <td>1000000.0</td>\n",
       "    </tr>\n",
       "    <tr>\n",
       "      <th>sex</th>\n",
       "      <td>30000.0</td>\n",
       "      <td>1.603733</td>\n",
       "      <td>0.489129</td>\n",
       "      <td>1.0</td>\n",
       "      <td>1.00</td>\n",
       "      <td>2.0</td>\n",
       "      <td>2.00</td>\n",
       "      <td>2.0</td>\n",
       "    </tr>\n",
       "    <tr>\n",
       "      <th>education</th>\n",
       "      <td>30000.0</td>\n",
       "      <td>1.853133</td>\n",
       "      <td>0.790349</td>\n",
       "      <td>0.0</td>\n",
       "      <td>1.00</td>\n",
       "      <td>2.0</td>\n",
       "      <td>2.00</td>\n",
       "      <td>6.0</td>\n",
       "    </tr>\n",
       "    <tr>\n",
       "      <th>marriage</th>\n",
       "      <td>30000.0</td>\n",
       "      <td>1.551867</td>\n",
       "      <td>0.521970</td>\n",
       "      <td>0.0</td>\n",
       "      <td>1.00</td>\n",
       "      <td>2.0</td>\n",
       "      <td>2.00</td>\n",
       "      <td>3.0</td>\n",
       "    </tr>\n",
       "    <tr>\n",
       "      <th>age</th>\n",
       "      <td>30000.0</td>\n",
       "      <td>35.485500</td>\n",
       "      <td>9.217904</td>\n",
       "      <td>21.0</td>\n",
       "      <td>28.00</td>\n",
       "      <td>34.0</td>\n",
       "      <td>41.00</td>\n",
       "      <td>79.0</td>\n",
       "    </tr>\n",
       "    <tr>\n",
       "      <th>pay_1</th>\n",
       "      <td>30000.0</td>\n",
       "      <td>-0.016700</td>\n",
       "      <td>1.123802</td>\n",
       "      <td>-2.0</td>\n",
       "      <td>-1.00</td>\n",
       "      <td>0.0</td>\n",
       "      <td>0.00</td>\n",
       "      <td>8.0</td>\n",
       "    </tr>\n",
       "    <tr>\n",
       "      <th>pay_2</th>\n",
       "      <td>30000.0</td>\n",
       "      <td>-0.133767</td>\n",
       "      <td>1.197186</td>\n",
       "      <td>-2.0</td>\n",
       "      <td>-1.00</td>\n",
       "      <td>0.0</td>\n",
       "      <td>0.00</td>\n",
       "      <td>8.0</td>\n",
       "    </tr>\n",
       "    <tr>\n",
       "      <th>pay_3</th>\n",
       "      <td>30000.0</td>\n",
       "      <td>-0.166200</td>\n",
       "      <td>1.196868</td>\n",
       "      <td>-2.0</td>\n",
       "      <td>-1.00</td>\n",
       "      <td>0.0</td>\n",
       "      <td>0.00</td>\n",
       "      <td>8.0</td>\n",
       "    </tr>\n",
       "    <tr>\n",
       "      <th>pay_4</th>\n",
       "      <td>30000.0</td>\n",
       "      <td>-0.220667</td>\n",
       "      <td>1.169139</td>\n",
       "      <td>-2.0</td>\n",
       "      <td>-1.00</td>\n",
       "      <td>0.0</td>\n",
       "      <td>0.00</td>\n",
       "      <td>8.0</td>\n",
       "    </tr>\n",
       "    <tr>\n",
       "      <th>pay_5</th>\n",
       "      <td>30000.0</td>\n",
       "      <td>-0.266200</td>\n",
       "      <td>1.133187</td>\n",
       "      <td>-2.0</td>\n",
       "      <td>-1.00</td>\n",
       "      <td>0.0</td>\n",
       "      <td>0.00</td>\n",
       "      <td>8.0</td>\n",
       "    </tr>\n",
       "    <tr>\n",
       "      <th>pay_6</th>\n",
       "      <td>30000.0</td>\n",
       "      <td>-0.291100</td>\n",
       "      <td>1.149988</td>\n",
       "      <td>-2.0</td>\n",
       "      <td>-1.00</td>\n",
       "      <td>0.0</td>\n",
       "      <td>0.00</td>\n",
       "      <td>8.0</td>\n",
       "    </tr>\n",
       "    <tr>\n",
       "      <th>bill_amt1</th>\n",
       "      <td>30000.0</td>\n",
       "      <td>51223.330900</td>\n",
       "      <td>73635.860576</td>\n",
       "      <td>-165580.0</td>\n",
       "      <td>3558.75</td>\n",
       "      <td>22381.5</td>\n",
       "      <td>67091.00</td>\n",
       "      <td>964511.0</td>\n",
       "    </tr>\n",
       "    <tr>\n",
       "      <th>bill_amt2</th>\n",
       "      <td>30000.0</td>\n",
       "      <td>49179.075167</td>\n",
       "      <td>71173.768783</td>\n",
       "      <td>-69777.0</td>\n",
       "      <td>2984.75</td>\n",
       "      <td>21200.0</td>\n",
       "      <td>64006.25</td>\n",
       "      <td>983931.0</td>\n",
       "    </tr>\n",
       "    <tr>\n",
       "      <th>bill_amt3</th>\n",
       "      <td>30000.0</td>\n",
       "      <td>47013.154800</td>\n",
       "      <td>69349.387427</td>\n",
       "      <td>-157264.0</td>\n",
       "      <td>2666.25</td>\n",
       "      <td>20088.5</td>\n",
       "      <td>60164.75</td>\n",
       "      <td>1664089.0</td>\n",
       "    </tr>\n",
       "    <tr>\n",
       "      <th>bill_amt4</th>\n",
       "      <td>30000.0</td>\n",
       "      <td>43262.948967</td>\n",
       "      <td>64332.856134</td>\n",
       "      <td>-170000.0</td>\n",
       "      <td>2326.75</td>\n",
       "      <td>19052.0</td>\n",
       "      <td>54506.00</td>\n",
       "      <td>891586.0</td>\n",
       "    </tr>\n",
       "    <tr>\n",
       "      <th>bill_amt5</th>\n",
       "      <td>30000.0</td>\n",
       "      <td>40311.400967</td>\n",
       "      <td>60797.155770</td>\n",
       "      <td>-81334.0</td>\n",
       "      <td>1763.00</td>\n",
       "      <td>18104.5</td>\n",
       "      <td>50190.50</td>\n",
       "      <td>927171.0</td>\n",
       "    </tr>\n",
       "    <tr>\n",
       "      <th>bill_amt6</th>\n",
       "      <td>30000.0</td>\n",
       "      <td>38871.760400</td>\n",
       "      <td>59554.107537</td>\n",
       "      <td>-339603.0</td>\n",
       "      <td>1256.00</td>\n",
       "      <td>17071.0</td>\n",
       "      <td>49198.25</td>\n",
       "      <td>961664.0</td>\n",
       "    </tr>\n",
       "    <tr>\n",
       "      <th>pay_amt1</th>\n",
       "      <td>30000.0</td>\n",
       "      <td>5663.580500</td>\n",
       "      <td>16563.280354</td>\n",
       "      <td>0.0</td>\n",
       "      <td>1000.00</td>\n",
       "      <td>2100.0</td>\n",
       "      <td>5006.00</td>\n",
       "      <td>873552.0</td>\n",
       "    </tr>\n",
       "    <tr>\n",
       "      <th>pay_amt2</th>\n",
       "      <td>30000.0</td>\n",
       "      <td>5921.163500</td>\n",
       "      <td>23040.870402</td>\n",
       "      <td>0.0</td>\n",
       "      <td>833.00</td>\n",
       "      <td>2009.0</td>\n",
       "      <td>5000.00</td>\n",
       "      <td>1684259.0</td>\n",
       "    </tr>\n",
       "    <tr>\n",
       "      <th>pay_amt3</th>\n",
       "      <td>30000.0</td>\n",
       "      <td>5225.681500</td>\n",
       "      <td>17606.961470</td>\n",
       "      <td>0.0</td>\n",
       "      <td>390.00</td>\n",
       "      <td>1800.0</td>\n",
       "      <td>4505.00</td>\n",
       "      <td>896040.0</td>\n",
       "    </tr>\n",
       "    <tr>\n",
       "      <th>pay_amt4</th>\n",
       "      <td>30000.0</td>\n",
       "      <td>4826.076867</td>\n",
       "      <td>15666.159744</td>\n",
       "      <td>0.0</td>\n",
       "      <td>296.00</td>\n",
       "      <td>1500.0</td>\n",
       "      <td>4013.25</td>\n",
       "      <td>621000.0</td>\n",
       "    </tr>\n",
       "    <tr>\n",
       "      <th>pay_amt5</th>\n",
       "      <td>30000.0</td>\n",
       "      <td>4799.387633</td>\n",
       "      <td>15278.305679</td>\n",
       "      <td>0.0</td>\n",
       "      <td>252.50</td>\n",
       "      <td>1500.0</td>\n",
       "      <td>4031.50</td>\n",
       "      <td>426529.0</td>\n",
       "    </tr>\n",
       "    <tr>\n",
       "      <th>pay_amt6</th>\n",
       "      <td>30000.0</td>\n",
       "      <td>5215.502567</td>\n",
       "      <td>17777.465775</td>\n",
       "      <td>0.0</td>\n",
       "      <td>117.75</td>\n",
       "      <td>1500.0</td>\n",
       "      <td>4000.00</td>\n",
       "      <td>528666.0</td>\n",
       "    </tr>\n",
       "    <tr>\n",
       "      <th>dflt_pmt</th>\n",
       "      <td>30000.0</td>\n",
       "      <td>0.221200</td>\n",
       "      <td>0.415062</td>\n",
       "      <td>0.0</td>\n",
       "      <td>0.00</td>\n",
       "      <td>0.0</td>\n",
       "      <td>0.00</td>\n",
       "      <td>1.0</td>\n",
       "    </tr>\n",
       "  </tbody>\n",
       "</table>\n",
       "</div>"
      ],
      "text/plain": [
       "             count           mean            std       min       25%  \\\n",
       "limit_bal  30000.0  167484.322667  129747.661567   10000.0  50000.00   \n",
       "sex        30000.0       1.603733       0.489129       1.0      1.00   \n",
       "education  30000.0       1.853133       0.790349       0.0      1.00   \n",
       "marriage   30000.0       1.551867       0.521970       0.0      1.00   \n",
       "age        30000.0      35.485500       9.217904      21.0     28.00   \n",
       "pay_1      30000.0      -0.016700       1.123802      -2.0     -1.00   \n",
       "pay_2      30000.0      -0.133767       1.197186      -2.0     -1.00   \n",
       "pay_3      30000.0      -0.166200       1.196868      -2.0     -1.00   \n",
       "pay_4      30000.0      -0.220667       1.169139      -2.0     -1.00   \n",
       "pay_5      30000.0      -0.266200       1.133187      -2.0     -1.00   \n",
       "pay_6      30000.0      -0.291100       1.149988      -2.0     -1.00   \n",
       "bill_amt1  30000.0   51223.330900   73635.860576 -165580.0   3558.75   \n",
       "bill_amt2  30000.0   49179.075167   71173.768783  -69777.0   2984.75   \n",
       "bill_amt3  30000.0   47013.154800   69349.387427 -157264.0   2666.25   \n",
       "bill_amt4  30000.0   43262.948967   64332.856134 -170000.0   2326.75   \n",
       "bill_amt5  30000.0   40311.400967   60797.155770  -81334.0   1763.00   \n",
       "bill_amt6  30000.0   38871.760400   59554.107537 -339603.0   1256.00   \n",
       "pay_amt1   30000.0    5663.580500   16563.280354       0.0   1000.00   \n",
       "pay_amt2   30000.0    5921.163500   23040.870402       0.0    833.00   \n",
       "pay_amt3   30000.0    5225.681500   17606.961470       0.0    390.00   \n",
       "pay_amt4   30000.0    4826.076867   15666.159744       0.0    296.00   \n",
       "pay_amt5   30000.0    4799.387633   15278.305679       0.0    252.50   \n",
       "pay_amt6   30000.0    5215.502567   17777.465775       0.0    117.75   \n",
       "dflt_pmt   30000.0       0.221200       0.415062       0.0      0.00   \n",
       "\n",
       "                50%        75%        max  \n",
       "limit_bal  140000.0  240000.00  1000000.0  \n",
       "sex             2.0       2.00        2.0  \n",
       "education       2.0       2.00        6.0  \n",
       "marriage        2.0       2.00        3.0  \n",
       "age            34.0      41.00       79.0  \n",
       "pay_1           0.0       0.00        8.0  \n",
       "pay_2           0.0       0.00        8.0  \n",
       "pay_3           0.0       0.00        8.0  \n",
       "pay_4           0.0       0.00        8.0  \n",
       "pay_5           0.0       0.00        8.0  \n",
       "pay_6           0.0       0.00        8.0  \n",
       "bill_amt1   22381.5   67091.00   964511.0  \n",
       "bill_amt2   21200.0   64006.25   983931.0  \n",
       "bill_amt3   20088.5   60164.75  1664089.0  \n",
       "bill_amt4   19052.0   54506.00   891586.0  \n",
       "bill_amt5   18104.5   50190.50   927171.0  \n",
       "bill_amt6   17071.0   49198.25   961664.0  \n",
       "pay_amt1     2100.0    5006.00   873552.0  \n",
       "pay_amt2     2009.0    5000.00  1684259.0  \n",
       "pay_amt3     1800.0    4505.00   896040.0  \n",
       "pay_amt4     1500.0    4013.25   621000.0  \n",
       "pay_amt5     1500.0    4031.50   426529.0  \n",
       "pay_amt6     1500.0    4000.00   528666.0  \n",
       "dflt_pmt        0.0       0.00        1.0  "
      ]
     },
     "execution_count": 12,
     "metadata": {},
     "output_type": "execute_result"
    }
   ],
   "source": [
    "default_data.describe().T"
   ]
  },
  {
   "cell_type": "markdown",
   "metadata": {},
   "source": [
    "From the describe above I've noticed a few interesting things:\n",
    "\n",
    "- pay_* can be \"-2\" and as it happens from the table below \"0\". I will leave those as upon looking at the table below it seems to me that \"-2\" is when you're not at all utilizing any credit amounts and \"0\" is for when you're paying some of the used amount but not in full. In other kernels it was suggested those are probably mistakes although I disagree;\n",
    "- there is marital status \"0\" which I will change to \"3\" - other, because you're either married, single or other and this seems logical;\n",
    "- going to change \"0\" from \"education\" to \"4\" (other) and see if types 5 and 6 are a big part of the data."
   ]
  },
  {
   "cell_type": "code",
   "execution_count": 13,
   "metadata": {},
   "outputs": [
    {
     "data": {
      "text/html": [
       "<div>\n",
       "<style scoped>\n",
       "    .dataframe tbody tr th:only-of-type {\n",
       "        vertical-align: middle;\n",
       "    }\n",
       "\n",
       "    .dataframe tbody tr th {\n",
       "        vertical-align: top;\n",
       "    }\n",
       "\n",
       "    .dataframe thead th {\n",
       "        text-align: right;\n",
       "    }\n",
       "</style>\n",
       "<table border=\"1\" class=\"dataframe\">\n",
       "  <thead>\n",
       "    <tr style=\"text-align: right;\">\n",
       "      <th></th>\n",
       "      <th>pay_1</th>\n",
       "      <th>pay_2</th>\n",
       "      <th>pay_3</th>\n",
       "      <th>pay_4</th>\n",
       "      <th>pay_5</th>\n",
       "      <th>pay_6</th>\n",
       "      <th>bill_amt1</th>\n",
       "      <th>bill_amt2</th>\n",
       "      <th>bill_amt3</th>\n",
       "      <th>bill_amt4</th>\n",
       "      <th>bill_amt5</th>\n",
       "      <th>pay_amt1</th>\n",
       "      <th>pay_amt2</th>\n",
       "      <th>pay_amt3</th>\n",
       "      <th>pay_amt4</th>\n",
       "      <th>dflt_pmt</th>\n",
       "    </tr>\n",
       "    <tr>\n",
       "      <th>ID</th>\n",
       "      <th></th>\n",
       "      <th></th>\n",
       "      <th></th>\n",
       "      <th></th>\n",
       "      <th></th>\n",
       "      <th></th>\n",
       "      <th></th>\n",
       "      <th></th>\n",
       "      <th></th>\n",
       "      <th></th>\n",
       "      <th></th>\n",
       "      <th></th>\n",
       "      <th></th>\n",
       "      <th></th>\n",
       "      <th></th>\n",
       "      <th></th>\n",
       "    </tr>\n",
       "  </thead>\n",
       "  <tbody>\n",
       "    <tr>\n",
       "      <th>1</th>\n",
       "      <td>2</td>\n",
       "      <td>2</td>\n",
       "      <td>-1</td>\n",
       "      <td>-1</td>\n",
       "      <td>-2</td>\n",
       "      <td>-2</td>\n",
       "      <td>3913.0</td>\n",
       "      <td>3102.0</td>\n",
       "      <td>689.0</td>\n",
       "      <td>0.0</td>\n",
       "      <td>0.0</td>\n",
       "      <td>0.0</td>\n",
       "      <td>689.0</td>\n",
       "      <td>0.0</td>\n",
       "      <td>0.0</td>\n",
       "      <td>1</td>\n",
       "    </tr>\n",
       "    <tr>\n",
       "      <th>2</th>\n",
       "      <td>-1</td>\n",
       "      <td>2</td>\n",
       "      <td>0</td>\n",
       "      <td>0</td>\n",
       "      <td>0</td>\n",
       "      <td>2</td>\n",
       "      <td>2682.0</td>\n",
       "      <td>1725.0</td>\n",
       "      <td>2682.0</td>\n",
       "      <td>3272.0</td>\n",
       "      <td>3455.0</td>\n",
       "      <td>0.0</td>\n",
       "      <td>1000.0</td>\n",
       "      <td>1000.0</td>\n",
       "      <td>1000.0</td>\n",
       "      <td>1</td>\n",
       "    </tr>\n",
       "    <tr>\n",
       "      <th>3</th>\n",
       "      <td>0</td>\n",
       "      <td>0</td>\n",
       "      <td>0</td>\n",
       "      <td>0</td>\n",
       "      <td>0</td>\n",
       "      <td>0</td>\n",
       "      <td>29239.0</td>\n",
       "      <td>14027.0</td>\n",
       "      <td>13559.0</td>\n",
       "      <td>14331.0</td>\n",
       "      <td>14948.0</td>\n",
       "      <td>1518.0</td>\n",
       "      <td>1500.0</td>\n",
       "      <td>1000.0</td>\n",
       "      <td>1000.0</td>\n",
       "      <td>0</td>\n",
       "    </tr>\n",
       "    <tr>\n",
       "      <th>4</th>\n",
       "      <td>0</td>\n",
       "      <td>0</td>\n",
       "      <td>0</td>\n",
       "      <td>0</td>\n",
       "      <td>0</td>\n",
       "      <td>0</td>\n",
       "      <td>46990.0</td>\n",
       "      <td>48233.0</td>\n",
       "      <td>49291.0</td>\n",
       "      <td>28314.0</td>\n",
       "      <td>28959.0</td>\n",
       "      <td>2000.0</td>\n",
       "      <td>2019.0</td>\n",
       "      <td>1200.0</td>\n",
       "      <td>1100.0</td>\n",
       "      <td>0</td>\n",
       "    </tr>\n",
       "    <tr>\n",
       "      <th>5</th>\n",
       "      <td>-1</td>\n",
       "      <td>0</td>\n",
       "      <td>-1</td>\n",
       "      <td>0</td>\n",
       "      <td>0</td>\n",
       "      <td>0</td>\n",
       "      <td>8617.0</td>\n",
       "      <td>5670.0</td>\n",
       "      <td>35835.0</td>\n",
       "      <td>20940.0</td>\n",
       "      <td>19146.0</td>\n",
       "      <td>2000.0</td>\n",
       "      <td>36681.0</td>\n",
       "      <td>10000.0</td>\n",
       "      <td>9000.0</td>\n",
       "      <td>0</td>\n",
       "    </tr>\n",
       "    <tr>\n",
       "      <th>6</th>\n",
       "      <td>0</td>\n",
       "      <td>0</td>\n",
       "      <td>0</td>\n",
       "      <td>0</td>\n",
       "      <td>0</td>\n",
       "      <td>0</td>\n",
       "      <td>64400.0</td>\n",
       "      <td>57069.0</td>\n",
       "      <td>57608.0</td>\n",
       "      <td>19394.0</td>\n",
       "      <td>19619.0</td>\n",
       "      <td>2500.0</td>\n",
       "      <td>1815.0</td>\n",
       "      <td>657.0</td>\n",
       "      <td>1000.0</td>\n",
       "      <td>0</td>\n",
       "    </tr>\n",
       "    <tr>\n",
       "      <th>7</th>\n",
       "      <td>0</td>\n",
       "      <td>0</td>\n",
       "      <td>0</td>\n",
       "      <td>0</td>\n",
       "      <td>0</td>\n",
       "      <td>0</td>\n",
       "      <td>367965.0</td>\n",
       "      <td>412023.0</td>\n",
       "      <td>445007.0</td>\n",
       "      <td>542653.0</td>\n",
       "      <td>483003.0</td>\n",
       "      <td>55000.0</td>\n",
       "      <td>40000.0</td>\n",
       "      <td>38000.0</td>\n",
       "      <td>20239.0</td>\n",
       "      <td>0</td>\n",
       "    </tr>\n",
       "    <tr>\n",
       "      <th>8</th>\n",
       "      <td>0</td>\n",
       "      <td>-1</td>\n",
       "      <td>-1</td>\n",
       "      <td>0</td>\n",
       "      <td>0</td>\n",
       "      <td>-1</td>\n",
       "      <td>11876.0</td>\n",
       "      <td>380.0</td>\n",
       "      <td>601.0</td>\n",
       "      <td>221.0</td>\n",
       "      <td>-159.0</td>\n",
       "      <td>380.0</td>\n",
       "      <td>601.0</td>\n",
       "      <td>0.0</td>\n",
       "      <td>581.0</td>\n",
       "      <td>0</td>\n",
       "    </tr>\n",
       "    <tr>\n",
       "      <th>9</th>\n",
       "      <td>0</td>\n",
       "      <td>0</td>\n",
       "      <td>2</td>\n",
       "      <td>0</td>\n",
       "      <td>0</td>\n",
       "      <td>0</td>\n",
       "      <td>11285.0</td>\n",
       "      <td>14096.0</td>\n",
       "      <td>12108.0</td>\n",
       "      <td>12211.0</td>\n",
       "      <td>11793.0</td>\n",
       "      <td>3329.0</td>\n",
       "      <td>0.0</td>\n",
       "      <td>432.0</td>\n",
       "      <td>1000.0</td>\n",
       "      <td>0</td>\n",
       "    </tr>\n",
       "    <tr>\n",
       "      <th>10</th>\n",
       "      <td>-2</td>\n",
       "      <td>-2</td>\n",
       "      <td>-2</td>\n",
       "      <td>-2</td>\n",
       "      <td>-1</td>\n",
       "      <td>-1</td>\n",
       "      <td>0.0</td>\n",
       "      <td>0.0</td>\n",
       "      <td>0.0</td>\n",
       "      <td>0.0</td>\n",
       "      <td>13007.0</td>\n",
       "      <td>0.0</td>\n",
       "      <td>0.0</td>\n",
       "      <td>0.0</td>\n",
       "      <td>13007.0</td>\n",
       "      <td>0</td>\n",
       "    </tr>\n",
       "    <tr>\n",
       "      <th>11</th>\n",
       "      <td>0</td>\n",
       "      <td>0</td>\n",
       "      <td>2</td>\n",
       "      <td>0</td>\n",
       "      <td>0</td>\n",
       "      <td>-1</td>\n",
       "      <td>11073.0</td>\n",
       "      <td>9787.0</td>\n",
       "      <td>5535.0</td>\n",
       "      <td>2513.0</td>\n",
       "      <td>1828.0</td>\n",
       "      <td>2306.0</td>\n",
       "      <td>12.0</td>\n",
       "      <td>50.0</td>\n",
       "      <td>300.0</td>\n",
       "      <td>0</td>\n",
       "    </tr>\n",
       "    <tr>\n",
       "      <th>12</th>\n",
       "      <td>-1</td>\n",
       "      <td>-1</td>\n",
       "      <td>-1</td>\n",
       "      <td>-1</td>\n",
       "      <td>-1</td>\n",
       "      <td>2</td>\n",
       "      <td>12261.0</td>\n",
       "      <td>21670.0</td>\n",
       "      <td>9966.0</td>\n",
       "      <td>8517.0</td>\n",
       "      <td>22287.0</td>\n",
       "      <td>21818.0</td>\n",
       "      <td>9966.0</td>\n",
       "      <td>8583.0</td>\n",
       "      <td>22301.0</td>\n",
       "      <td>0</td>\n",
       "    </tr>\n",
       "    <tr>\n",
       "      <th>13</th>\n",
       "      <td>-1</td>\n",
       "      <td>0</td>\n",
       "      <td>-1</td>\n",
       "      <td>-1</td>\n",
       "      <td>-1</td>\n",
       "      <td>-1</td>\n",
       "      <td>12137.0</td>\n",
       "      <td>6500.0</td>\n",
       "      <td>6500.0</td>\n",
       "      <td>6500.0</td>\n",
       "      <td>6500.0</td>\n",
       "      <td>1000.0</td>\n",
       "      <td>6500.0</td>\n",
       "      <td>6500.0</td>\n",
       "      <td>6500.0</td>\n",
       "      <td>0</td>\n",
       "    </tr>\n",
       "    <tr>\n",
       "      <th>14</th>\n",
       "      <td>1</td>\n",
       "      <td>2</td>\n",
       "      <td>2</td>\n",
       "      <td>0</td>\n",
       "      <td>0</td>\n",
       "      <td>2</td>\n",
       "      <td>65802.0</td>\n",
       "      <td>67369.0</td>\n",
       "      <td>65701.0</td>\n",
       "      <td>66782.0</td>\n",
       "      <td>36137.0</td>\n",
       "      <td>3200.0</td>\n",
       "      <td>0.0</td>\n",
       "      <td>3000.0</td>\n",
       "      <td>3000.0</td>\n",
       "      <td>1</td>\n",
       "    </tr>\n",
       "    <tr>\n",
       "      <th>15</th>\n",
       "      <td>0</td>\n",
       "      <td>0</td>\n",
       "      <td>0</td>\n",
       "      <td>0</td>\n",
       "      <td>0</td>\n",
       "      <td>0</td>\n",
       "      <td>70887.0</td>\n",
       "      <td>67060.0</td>\n",
       "      <td>63561.0</td>\n",
       "      <td>59696.0</td>\n",
       "      <td>56875.0</td>\n",
       "      <td>3000.0</td>\n",
       "      <td>3000.0</td>\n",
       "      <td>3000.0</td>\n",
       "      <td>3000.0</td>\n",
       "      <td>0</td>\n",
       "    </tr>\n",
       "    <tr>\n",
       "      <th>16</th>\n",
       "      <td>1</td>\n",
       "      <td>2</td>\n",
       "      <td>0</td>\n",
       "      <td>0</td>\n",
       "      <td>0</td>\n",
       "      <td>0</td>\n",
       "      <td>50614.0</td>\n",
       "      <td>29173.0</td>\n",
       "      <td>28116.0</td>\n",
       "      <td>28771.0</td>\n",
       "      <td>29531.0</td>\n",
       "      <td>0.0</td>\n",
       "      <td>1500.0</td>\n",
       "      <td>1100.0</td>\n",
       "      <td>1200.0</td>\n",
       "      <td>0</td>\n",
       "    </tr>\n",
       "    <tr>\n",
       "      <th>17</th>\n",
       "      <td>0</td>\n",
       "      <td>0</td>\n",
       "      <td>2</td>\n",
       "      <td>2</td>\n",
       "      <td>2</td>\n",
       "      <td>2</td>\n",
       "      <td>15376.0</td>\n",
       "      <td>18010.0</td>\n",
       "      <td>17428.0</td>\n",
       "      <td>18338.0</td>\n",
       "      <td>17905.0</td>\n",
       "      <td>3200.0</td>\n",
       "      <td>0.0</td>\n",
       "      <td>1500.0</td>\n",
       "      <td>0.0</td>\n",
       "      <td>1</td>\n",
       "    </tr>\n",
       "    <tr>\n",
       "      <th>18</th>\n",
       "      <td>0</td>\n",
       "      <td>0</td>\n",
       "      <td>0</td>\n",
       "      <td>-1</td>\n",
       "      <td>-1</td>\n",
       "      <td>-1</td>\n",
       "      <td>253286.0</td>\n",
       "      <td>246536.0</td>\n",
       "      <td>194663.0</td>\n",
       "      <td>70074.0</td>\n",
       "      <td>5856.0</td>\n",
       "      <td>10358.0</td>\n",
       "      <td>10000.0</td>\n",
       "      <td>75940.0</td>\n",
       "      <td>20000.0</td>\n",
       "      <td>0</td>\n",
       "    </tr>\n",
       "    <tr>\n",
       "      <th>19</th>\n",
       "      <td>1</td>\n",
       "      <td>-2</td>\n",
       "      <td>-2</td>\n",
       "      <td>-2</td>\n",
       "      <td>-2</td>\n",
       "      <td>-2</td>\n",
       "      <td>0.0</td>\n",
       "      <td>0.0</td>\n",
       "      <td>0.0</td>\n",
       "      <td>0.0</td>\n",
       "      <td>0.0</td>\n",
       "      <td>0.0</td>\n",
       "      <td>0.0</td>\n",
       "      <td>0.0</td>\n",
       "      <td>0.0</td>\n",
       "      <td>0</td>\n",
       "    </tr>\n",
       "    <tr>\n",
       "      <th>20</th>\n",
       "      <td>1</td>\n",
       "      <td>-2</td>\n",
       "      <td>-2</td>\n",
       "      <td>-2</td>\n",
       "      <td>-2</td>\n",
       "      <td>-2</td>\n",
       "      <td>0.0</td>\n",
       "      <td>0.0</td>\n",
       "      <td>0.0</td>\n",
       "      <td>0.0</td>\n",
       "      <td>0.0</td>\n",
       "      <td>0.0</td>\n",
       "      <td>0.0</td>\n",
       "      <td>0.0</td>\n",
       "      <td>0.0</td>\n",
       "      <td>0</td>\n",
       "    </tr>\n",
       "    <tr>\n",
       "      <th>21</th>\n",
       "      <td>0</td>\n",
       "      <td>0</td>\n",
       "      <td>0</td>\n",
       "      <td>0</td>\n",
       "      <td>0</td>\n",
       "      <td>-1</td>\n",
       "      <td>38358.0</td>\n",
       "      <td>27688.0</td>\n",
       "      <td>24489.0</td>\n",
       "      <td>20616.0</td>\n",
       "      <td>11802.0</td>\n",
       "      <td>3000.0</td>\n",
       "      <td>1537.0</td>\n",
       "      <td>1000.0</td>\n",
       "      <td>2000.0</td>\n",
       "      <td>0</td>\n",
       "    </tr>\n",
       "    <tr>\n",
       "      <th>22</th>\n",
       "      <td>-1</td>\n",
       "      <td>-1</td>\n",
       "      <td>-1</td>\n",
       "      <td>-1</td>\n",
       "      <td>-1</td>\n",
       "      <td>-1</td>\n",
       "      <td>316.0</td>\n",
       "      <td>316.0</td>\n",
       "      <td>316.0</td>\n",
       "      <td>0.0</td>\n",
       "      <td>632.0</td>\n",
       "      <td>316.0</td>\n",
       "      <td>316.0</td>\n",
       "      <td>0.0</td>\n",
       "      <td>632.0</td>\n",
       "      <td>1</td>\n",
       "    </tr>\n",
       "    <tr>\n",
       "      <th>23</th>\n",
       "      <td>2</td>\n",
       "      <td>0</td>\n",
       "      <td>0</td>\n",
       "      <td>2</td>\n",
       "      <td>2</td>\n",
       "      <td>2</td>\n",
       "      <td>41087.0</td>\n",
       "      <td>42445.0</td>\n",
       "      <td>45020.0</td>\n",
       "      <td>44006.0</td>\n",
       "      <td>46905.0</td>\n",
       "      <td>2007.0</td>\n",
       "      <td>3582.0</td>\n",
       "      <td>0.0</td>\n",
       "      <td>3601.0</td>\n",
       "      <td>1</td>\n",
       "    </tr>\n",
       "    <tr>\n",
       "      <th>24</th>\n",
       "      <td>-2</td>\n",
       "      <td>-2</td>\n",
       "      <td>-2</td>\n",
       "      <td>-2</td>\n",
       "      <td>-2</td>\n",
       "      <td>-2</td>\n",
       "      <td>5512.0</td>\n",
       "      <td>19420.0</td>\n",
       "      <td>1473.0</td>\n",
       "      <td>560.0</td>\n",
       "      <td>0.0</td>\n",
       "      <td>19428.0</td>\n",
       "      <td>1473.0</td>\n",
       "      <td>560.0</td>\n",
       "      <td>0.0</td>\n",
       "      <td>1</td>\n",
       "    </tr>\n",
       "    <tr>\n",
       "      <th>25</th>\n",
       "      <td>0</td>\n",
       "      <td>0</td>\n",
       "      <td>0</td>\n",
       "      <td>-1</td>\n",
       "      <td>0</td>\n",
       "      <td>0</td>\n",
       "      <td>4744.0</td>\n",
       "      <td>7070.0</td>\n",
       "      <td>0.0</td>\n",
       "      <td>5398.0</td>\n",
       "      <td>6360.0</td>\n",
       "      <td>5757.0</td>\n",
       "      <td>0.0</td>\n",
       "      <td>5398.0</td>\n",
       "      <td>1200.0</td>\n",
       "      <td>0</td>\n",
       "    </tr>\n",
       "    <tr>\n",
       "      <th>26</th>\n",
       "      <td>0</td>\n",
       "      <td>0</td>\n",
       "      <td>0</td>\n",
       "      <td>0</td>\n",
       "      <td>0</td>\n",
       "      <td>0</td>\n",
       "      <td>47620.0</td>\n",
       "      <td>41810.0</td>\n",
       "      <td>36023.0</td>\n",
       "      <td>28967.0</td>\n",
       "      <td>29829.0</td>\n",
       "      <td>1973.0</td>\n",
       "      <td>1426.0</td>\n",
       "      <td>1001.0</td>\n",
       "      <td>1432.0</td>\n",
       "      <td>0</td>\n",
       "    </tr>\n",
       "    <tr>\n",
       "      <th>27</th>\n",
       "      <td>1</td>\n",
       "      <td>-2</td>\n",
       "      <td>-1</td>\n",
       "      <td>-1</td>\n",
       "      <td>-1</td>\n",
       "      <td>-1</td>\n",
       "      <td>-109.0</td>\n",
       "      <td>-425.0</td>\n",
       "      <td>259.0</td>\n",
       "      <td>-57.0</td>\n",
       "      <td>127.0</td>\n",
       "      <td>0.0</td>\n",
       "      <td>1000.0</td>\n",
       "      <td>0.0</td>\n",
       "      <td>500.0</td>\n",
       "      <td>1</td>\n",
       "    </tr>\n",
       "    <tr>\n",
       "      <th>28</th>\n",
       "      <td>0</td>\n",
       "      <td>0</td>\n",
       "      <td>0</td>\n",
       "      <td>0</td>\n",
       "      <td>0</td>\n",
       "      <td>0</td>\n",
       "      <td>22541.0</td>\n",
       "      <td>16138.0</td>\n",
       "      <td>17163.0</td>\n",
       "      <td>17878.0</td>\n",
       "      <td>18931.0</td>\n",
       "      <td>1300.0</td>\n",
       "      <td>1300.0</td>\n",
       "      <td>1000.0</td>\n",
       "      <td>1500.0</td>\n",
       "      <td>0</td>\n",
       "    </tr>\n",
       "    <tr>\n",
       "      <th>29</th>\n",
       "      <td>-1</td>\n",
       "      <td>-1</td>\n",
       "      <td>-1</td>\n",
       "      <td>-1</td>\n",
       "      <td>-1</td>\n",
       "      <td>-1</td>\n",
       "      <td>650.0</td>\n",
       "      <td>3415.0</td>\n",
       "      <td>3416.0</td>\n",
       "      <td>2040.0</td>\n",
       "      <td>30430.0</td>\n",
       "      <td>3415.0</td>\n",
       "      <td>3421.0</td>\n",
       "      <td>2044.0</td>\n",
       "      <td>30430.0</td>\n",
       "      <td>0</td>\n",
       "    </tr>\n",
       "    <tr>\n",
       "      <th>30</th>\n",
       "      <td>0</td>\n",
       "      <td>0</td>\n",
       "      <td>0</td>\n",
       "      <td>0</td>\n",
       "      <td>0</td>\n",
       "      <td>0</td>\n",
       "      <td>15329.0</td>\n",
       "      <td>16575.0</td>\n",
       "      <td>17496.0</td>\n",
       "      <td>17907.0</td>\n",
       "      <td>18375.0</td>\n",
       "      <td>1500.0</td>\n",
       "      <td>1500.0</td>\n",
       "      <td>1000.0</td>\n",
       "      <td>1000.0</td>\n",
       "      <td>0</td>\n",
       "    </tr>\n",
       "  </tbody>\n",
       "</table>\n",
       "</div>"
      ],
      "text/plain": [
       "    pay_1  pay_2  pay_3  pay_4  pay_5  pay_6  bill_amt1  bill_amt2  bill_amt3  \\\n",
       "ID                                                                              \n",
       "1       2      2     -1     -1     -2     -2     3913.0     3102.0      689.0   \n",
       "2      -1      2      0      0      0      2     2682.0     1725.0     2682.0   \n",
       "3       0      0      0      0      0      0    29239.0    14027.0    13559.0   \n",
       "4       0      0      0      0      0      0    46990.0    48233.0    49291.0   \n",
       "5      -1      0     -1      0      0      0     8617.0     5670.0    35835.0   \n",
       "6       0      0      0      0      0      0    64400.0    57069.0    57608.0   \n",
       "7       0      0      0      0      0      0   367965.0   412023.0   445007.0   \n",
       "8       0     -1     -1      0      0     -1    11876.0      380.0      601.0   \n",
       "9       0      0      2      0      0      0    11285.0    14096.0    12108.0   \n",
       "10     -2     -2     -2     -2     -1     -1        0.0        0.0        0.0   \n",
       "11      0      0      2      0      0     -1    11073.0     9787.0     5535.0   \n",
       "12     -1     -1     -1     -1     -1      2    12261.0    21670.0     9966.0   \n",
       "13     -1      0     -1     -1     -1     -1    12137.0     6500.0     6500.0   \n",
       "14      1      2      2      0      0      2    65802.0    67369.0    65701.0   \n",
       "15      0      0      0      0      0      0    70887.0    67060.0    63561.0   \n",
       "16      1      2      0      0      0      0    50614.0    29173.0    28116.0   \n",
       "17      0      0      2      2      2      2    15376.0    18010.0    17428.0   \n",
       "18      0      0      0     -1     -1     -1   253286.0   246536.0   194663.0   \n",
       "19      1     -2     -2     -2     -2     -2        0.0        0.0        0.0   \n",
       "20      1     -2     -2     -2     -2     -2        0.0        0.0        0.0   \n",
       "21      0      0      0      0      0     -1    38358.0    27688.0    24489.0   \n",
       "22     -1     -1     -1     -1     -1     -1      316.0      316.0      316.0   \n",
       "23      2      0      0      2      2      2    41087.0    42445.0    45020.0   \n",
       "24     -2     -2     -2     -2     -2     -2     5512.0    19420.0     1473.0   \n",
       "25      0      0      0     -1      0      0     4744.0     7070.0        0.0   \n",
       "26      0      0      0      0      0      0    47620.0    41810.0    36023.0   \n",
       "27      1     -2     -1     -1     -1     -1     -109.0     -425.0      259.0   \n",
       "28      0      0      0      0      0      0    22541.0    16138.0    17163.0   \n",
       "29     -1     -1     -1     -1     -1     -1      650.0     3415.0     3416.0   \n",
       "30      0      0      0      0      0      0    15329.0    16575.0    17496.0   \n",
       "\n",
       "    bill_amt4  bill_amt5  pay_amt1  pay_amt2  pay_amt3  pay_amt4  dflt_pmt  \n",
       "ID                                                                          \n",
       "1         0.0        0.0       0.0     689.0       0.0       0.0         1  \n",
       "2      3272.0     3455.0       0.0    1000.0    1000.0    1000.0         1  \n",
       "3     14331.0    14948.0    1518.0    1500.0    1000.0    1000.0         0  \n",
       "4     28314.0    28959.0    2000.0    2019.0    1200.0    1100.0         0  \n",
       "5     20940.0    19146.0    2000.0   36681.0   10000.0    9000.0         0  \n",
       "6     19394.0    19619.0    2500.0    1815.0     657.0    1000.0         0  \n",
       "7    542653.0   483003.0   55000.0   40000.0   38000.0   20239.0         0  \n",
       "8       221.0     -159.0     380.0     601.0       0.0     581.0         0  \n",
       "9     12211.0    11793.0    3329.0       0.0     432.0    1000.0         0  \n",
       "10        0.0    13007.0       0.0       0.0       0.0   13007.0         0  \n",
       "11     2513.0     1828.0    2306.0      12.0      50.0     300.0         0  \n",
       "12     8517.0    22287.0   21818.0    9966.0    8583.0   22301.0         0  \n",
       "13     6500.0     6500.0    1000.0    6500.0    6500.0    6500.0         0  \n",
       "14    66782.0    36137.0    3200.0       0.0    3000.0    3000.0         1  \n",
       "15    59696.0    56875.0    3000.0    3000.0    3000.0    3000.0         0  \n",
       "16    28771.0    29531.0       0.0    1500.0    1100.0    1200.0         0  \n",
       "17    18338.0    17905.0    3200.0       0.0    1500.0       0.0         1  \n",
       "18    70074.0     5856.0   10358.0   10000.0   75940.0   20000.0         0  \n",
       "19        0.0        0.0       0.0       0.0       0.0       0.0         0  \n",
       "20        0.0        0.0       0.0       0.0       0.0       0.0         0  \n",
       "21    20616.0    11802.0    3000.0    1537.0    1000.0    2000.0         0  \n",
       "22        0.0      632.0     316.0     316.0       0.0     632.0         1  \n",
       "23    44006.0    46905.0    2007.0    3582.0       0.0    3601.0         1  \n",
       "24      560.0        0.0   19428.0    1473.0     560.0       0.0         1  \n",
       "25     5398.0     6360.0    5757.0       0.0    5398.0    1200.0         0  \n",
       "26    28967.0    29829.0    1973.0    1426.0    1001.0    1432.0         0  \n",
       "27      -57.0      127.0       0.0    1000.0       0.0     500.0         1  \n",
       "28    17878.0    18931.0    1300.0    1300.0    1000.0    1500.0         0  \n",
       "29     2040.0    30430.0    3415.0    3421.0    2044.0   30430.0         0  \n",
       "30    17907.0    18375.0    1500.0    1500.0    1000.0    1000.0         0  "
      ]
     },
     "execution_count": 13,
     "metadata": {},
     "output_type": "execute_result"
    }
   ],
   "source": [
    "default_data[[\"pay_1\", \"pay_2\", \"pay_3\", \"pay_4\", \"pay_5\", \"pay_6\", \"bill_amt1\", \"bill_amt2\", \"bill_amt3\", \"bill_amt4\", \"bill_amt5\", \"pay_amt1\", \"pay_amt2\", \"pay_amt3\", \"pay_amt4\", \"dflt_pmt\"]].head(30)"
   ]
  },
  {
   "cell_type": "code",
   "execution_count": 14,
   "metadata": {},
   "outputs": [],
   "source": [
    "#Replace the 0 with 3 in the marriage column.\n",
    "default_data.marriage = default_data.marriage.astype(str)\n",
    "default_data.marriage = default_data.marriage.apply(lambda x: x.replace(\"0\", \"3\"))\n",
    "default_data.marriage = default_data.marriage.astype('int64')"
   ]
  },
  {
   "cell_type": "code",
   "execution_count": 15,
   "metadata": {},
   "outputs": [
    {
     "data": {
      "text/plain": [
       "array([1, 2, 3], dtype=int64)"
      ]
     },
     "execution_count": 15,
     "metadata": {},
     "output_type": "execute_result"
    }
   ],
   "source": [
    "#Quick check.\n",
    "default_data.marriage.unique()"
   ]
  },
  {
   "cell_type": "code",
   "execution_count": 16,
   "metadata": {},
   "outputs": [],
   "source": [
    "#Replace the 0 with 4 in the education column.\n",
    "default_data.education = default_data.education.astype(str)\n",
    "default_data.education = default_data.education.apply(lambda x: x.replace(\"0\", \"4\"))\n",
    "default_data.education = default_data.education.astype('int64')"
   ]
  },
  {
   "cell_type": "code",
   "execution_count": 17,
   "metadata": {},
   "outputs": [
    {
     "data": {
      "text/plain": [
       "array([2, 1, 3, 5, 4, 6], dtype=int64)"
      ]
     },
     "execution_count": 17,
     "metadata": {},
     "output_type": "execute_result"
    }
   ],
   "source": [
    "#Quick check.\n",
    "default_data.education.unique()"
   ]
  },
  {
   "cell_type": "code",
   "execution_count": 18,
   "metadata": {},
   "outputs": [
    {
     "data": {
      "text/plain": [
       "education\n",
       "1    35.283333\n",
       "2    46.766667\n",
       "3    16.390000\n",
       "4     0.456667\n",
       "5     0.933333\n",
       "6     0.170000\n",
       "dtype: float64"
      ]
     },
     "execution_count": 18,
     "metadata": {},
     "output_type": "execute_result"
    }
   ],
   "source": [
    "default_data.groupby(\"education\").size()/ len(default_data)*100"
   ]
  },
  {
   "cell_type": "markdown",
   "metadata": {},
   "source": [
    "Since the 5 and 6 are really insignificant part of the data I will change those to \"other\" as well in order to decrease the number of columns if dummies are used later."
   ]
  },
  {
   "cell_type": "code",
   "execution_count": 19,
   "metadata": {},
   "outputs": [],
   "source": [
    "default_data.education = default_data.education.astype(str)\n",
    "default_data.education = default_data.education.apply(lambda x: x.replace(\"5\", \"4\"))\n",
    "default_data.education = default_data.education.apply(lambda x: x.replace(\"6\", \"4\"))\n",
    "default_data.education = default_data.education.astype('int64')"
   ]
  },
  {
   "cell_type": "code",
   "execution_count": 20,
   "metadata": {},
   "outputs": [
    {
     "data": {
      "text/plain": [
       "array([2, 1, 3, 4], dtype=int64)"
      ]
     },
     "execution_count": 20,
     "metadata": {},
     "output_type": "execute_result"
    }
   ],
   "source": [
    "#Quick check.\n",
    "default_data.education.unique()"
   ]
  },
  {
   "cell_type": "markdown",
   "metadata": {},
   "source": [
    "### 3.2 Time for visualising our data and EDA"
   ]
  },
  {
   "cell_type": "markdown",
   "metadata": {},
   "source": [
    "So let's first see how many defaults next month are there from the 30 k recodrded clients."
   ]
  },
  {
   "cell_type": "code",
   "execution_count": 21,
   "metadata": {},
   "outputs": [
    {
     "data": {
      "text/plain": [
       "dflt_pmt\n",
       "0    0.7788\n",
       "1    0.2212\n",
       "dtype: float64"
      ]
     },
     "execution_count": 21,
     "metadata": {},
     "output_type": "execute_result"
    }
   ],
   "source": [
    "default_data.groupby(\"dflt_pmt\").size()/len(default_data)"
   ]
  },
  {
   "cell_type": "markdown",
   "metadata": {},
   "source": [
    "6636 defaults out of 30,000. Or percentagewise below - 22,12% of the customers will default next month."
   ]
  },
  {
   "cell_type": "code",
   "execution_count": 22,
   "metadata": {},
   "outputs": [
    {
     "data": {
      "text/plain": [
       "dflt_pmt\n",
       "0    0.7788\n",
       "1    0.2212\n",
       "dtype: float64"
      ]
     },
     "execution_count": 22,
     "metadata": {},
     "output_type": "execute_result"
    }
   ],
   "source": [
    "default_data.groupby(\"dflt_pmt\").size()/len(default_data)"
   ]
  },
  {
   "cell_type": "markdown",
   "metadata": {},
   "source": [
    "Our data is not that imbalanced in order to need oversampling or any additional reworking but will need to use stratification later."
   ]
  },
  {
   "cell_type": "markdown",
   "metadata": {},
   "source": [
    "I'm intersted to see the sex, age and education distribution."
   ]
  },
  {
   "cell_type": "code",
   "execution_count": 23,
   "metadata": {},
   "outputs": [
    {
     "data": {
      "image/png": "[encoded data removed]",
      "text/plain": [
       "<Figure size 432x288 with 1 Axes>"
      ]
     },
     "metadata": {
      "needs_background": "light"
     },
     "output_type": "display_data"
    }
   ],
   "source": [
    "pd.crosstab(default_data[\"sex\"], default_data[\"dflt_pmt\"]).plot(kind=\"bar\", stacked=False, color = [\"forestgreen\",\"orange\"])\n",
    "\n",
    "plt.title(\"Distribution of sex and default payments\")\n",
    "plt.xlabel(\"Sex\")\n",
    "plt.ylabel(\"Counts\")\n",
    "plt.show()"
   ]
  },
  {
   "cell_type": "code",
   "execution_count": 24,
   "metadata": {},
   "outputs": [
    {
     "data": {
      "text/plain": [
       "sex\n",
       "1    0.241672\n",
       "2    0.207763\n",
       "dtype: float64"
      ]
     },
     "execution_count": 24,
     "metadata": {},
     "output_type": "execute_result"
    }
   ],
   "source": [
    "default_data[default_data.dflt_pmt == 1].groupby(\"sex\").size()/default_data.groupby(\"sex\").size()"
   ]
  },
  {
   "cell_type": "markdown",
   "metadata": {},
   "source": [
    "As can be seen on the plot above the 24.2% of male(1) defaulting is higher compared to the same for females(2) - 20.8%."
   ]
  },
  {
   "cell_type": "code",
   "execution_count": 25,
   "metadata": {},
   "outputs": [
    {
     "data": {
      "image/png": "[encoded data removed]",
      "text/plain": [
       "<Figure size 1440x720 with 1 Axes>"
      ]
     },
     "metadata": {
      "needs_background": "light"
     },
     "output_type": "display_data"
    }
   ],
   "source": [
    "pd.crosstab(default_data[\"age\"], default_data[\"dflt_pmt\"]).plot(kind=\"bar\", stacked=True, figsize =(20,10), color = [\"forestgreen\",\"orange\"])\n",
    "\n",
    "plt.title(\"Distribution of age and default payments\")\n",
    "plt.xlabel(\"Age\")\n",
    "plt.ylabel(\"Counts\")\n",
    "plt.show()"
   ]
  },
  {
   "cell_type": "code",
   "execution_count": 26,
   "metadata": {},
   "outputs": [
    {
     "data": {
      "text/plain": [
       "count    6636.000000\n",
       "mean       35.725738\n",
       "std         9.693438\n",
       "min        21.000000\n",
       "25%        28.000000\n",
       "50%        34.000000\n",
       "75%        42.000000\n",
       "max        75.000000\n",
       "Name: age, dtype: float64"
      ]
     },
     "execution_count": 26,
     "metadata": {},
     "output_type": "execute_result"
    }
   ],
   "source": [
    "default_data.age[default_data.dflt_pmt == 1].describe()"
   ]
  },
  {
   "cell_type": "markdown",
   "metadata": {},
   "source": [
    "The most people using credit cards in this dataset are around 30 years old with mean age of 35.48 years (desribe table of the whole DF) against 35.72 - average age of the defaulting users. "
   ]
  },
  {
   "cell_type": "code",
   "execution_count": 27,
   "metadata": {},
   "outputs": [
    {
     "data": {
      "image/png": "[encoded data removed]",
      "text/plain": [
       "<Figure size 432x288 with 1 Axes>"
      ]
     },
     "metadata": {
      "needs_background": "light"
     },
     "output_type": "display_data"
    }
   ],
   "source": [
    "pd.crosstab(default_data[\"education\"], default_data[\"dflt_pmt\"]).plot(kind=\"bar\", stacked=False, color = [\"forestgreen\",\"orange\"])\n",
    "\n",
    "plt.title(\"Distribution of education and default payments\")\n",
    "plt.xlabel(\"Education\")\n",
    "plt.ylabel(\"Counts\")\n",
    "plt.show()"
   ]
  },
  {
   "cell_type": "code",
   "execution_count": 28,
   "metadata": {},
   "outputs": [
    {
     "data": {
      "text/plain": [
       "education\n",
       "1    0.192348\n",
       "2    0.237349\n",
       "3    0.251576\n",
       "4    0.070513\n",
       "dtype: float64"
      ]
     },
     "execution_count": 28,
     "metadata": {},
     "output_type": "execute_result"
    }
   ],
   "source": [
    "default_data[default_data.dflt_pmt == 1].groupby(\"education\").size()/default_data.groupby(\"education\").size()"
   ]
  },
  {
   "cell_type": "markdown",
   "metadata": {},
   "source": [
    "The highest degrees (1 being graduate school, 2 - university, 3 - highschool) have the lowest default percentage. (Thanks to Google now I can distinguish between graduate school and university)."
   ]
  },
  {
   "cell_type": "code",
   "execution_count": 29,
   "metadata": {},
   "outputs": [
    {
     "data": {
      "image/png": "[encoded data removed]",
      "text/plain": [
       "<Figure size 432x288 with 1 Axes>"
      ]
     },
     "metadata": {
      "needs_background": "light"
     },
     "output_type": "display_data"
    }
   ],
   "source": [
    "pd.crosstab(default_data[\"marriage\"], default_data[\"dflt_pmt\"]).plot(kind=\"bar\", stacked=False, color = [\"forestgreen\",\"orange\"])\n",
    "\n",
    "plt.title(\"Distribution of marital status and default payments\")\n",
    "plt.xlabel(\"Marrital status\")\n",
    "plt.ylabel(\"Counts\")\n",
    "plt.show()"
   ]
  },
  {
   "cell_type": "markdown",
   "metadata": {},
   "source": [
    "It can be clearly seen that the married customers have lower default rates."
   ]
  },
  {
   "cell_type": "code",
   "execution_count": 30,
   "metadata": {},
   "outputs": [
    {
     "data": {
      "text/html": [
       "<div>\n",
       "<style scoped>\n",
       "    .dataframe tbody tr th:only-of-type {\n",
       "        vertical-align: middle;\n",
       "    }\n",
       "\n",
       "    .dataframe tbody tr th {\n",
       "        vertical-align: top;\n",
       "    }\n",
       "\n",
       "    .dataframe thead th {\n",
       "        text-align: right;\n",
       "    }\n",
       "</style>\n",
       "<table border=\"1\" class=\"dataframe\">\n",
       "  <thead>\n",
       "    <tr style=\"text-align: right;\">\n",
       "      <th></th>\n",
       "      <th>limit_bal</th>\n",
       "      <th>sex</th>\n",
       "      <th>education</th>\n",
       "      <th>marriage</th>\n",
       "      <th>age</th>\n",
       "      <th>pay_1</th>\n",
       "      <th>pay_2</th>\n",
       "      <th>pay_3</th>\n",
       "      <th>pay_4</th>\n",
       "      <th>pay_5</th>\n",
       "      <th>...</th>\n",
       "      <th>bill_amt4</th>\n",
       "      <th>bill_amt5</th>\n",
       "      <th>bill_amt6</th>\n",
       "      <th>pay_amt1</th>\n",
       "      <th>pay_amt2</th>\n",
       "      <th>pay_amt3</th>\n",
       "      <th>pay_amt4</th>\n",
       "      <th>pay_amt5</th>\n",
       "      <th>pay_amt6</th>\n",
       "      <th>dflt_pmt</th>\n",
       "    </tr>\n",
       "  </thead>\n",
       "  <tbody>\n",
       "    <tr>\n",
       "      <th>limit_bal</th>\n",
       "      <td>1.000000</td>\n",
       "      <td>0.024755</td>\n",
       "      <td>-0.231088</td>\n",
       "      <td>-0.111012</td>\n",
       "      <td>0.144713</td>\n",
       "      <td>-0.271214</td>\n",
       "      <td>-0.296382</td>\n",
       "      <td>-0.286123</td>\n",
       "      <td>-0.267460</td>\n",
       "      <td>-0.249411</td>\n",
       "      <td>...</td>\n",
       "      <td>0.293988</td>\n",
       "      <td>0.295562</td>\n",
       "      <td>0.290389</td>\n",
       "      <td>0.195236</td>\n",
       "      <td>0.178408</td>\n",
       "      <td>0.210167</td>\n",
       "      <td>0.203242</td>\n",
       "      <td>0.217202</td>\n",
       "      <td>0.219595</td>\n",
       "      <td>-0.153520</td>\n",
       "    </tr>\n",
       "    <tr>\n",
       "      <th>sex</th>\n",
       "      <td>0.024755</td>\n",
       "      <td>1.000000</td>\n",
       "      <td>0.013627</td>\n",
       "      <td>-0.028522</td>\n",
       "      <td>-0.090874</td>\n",
       "      <td>-0.057643</td>\n",
       "      <td>-0.070771</td>\n",
       "      <td>-0.066096</td>\n",
       "      <td>-0.060173</td>\n",
       "      <td>-0.055064</td>\n",
       "      <td>...</td>\n",
       "      <td>-0.021880</td>\n",
       "      <td>-0.017005</td>\n",
       "      <td>-0.016733</td>\n",
       "      <td>-0.000242</td>\n",
       "      <td>-0.001391</td>\n",
       "      <td>-0.008597</td>\n",
       "      <td>-0.002229</td>\n",
       "      <td>-0.001667</td>\n",
       "      <td>-0.002766</td>\n",
       "      <td>-0.039961</td>\n",
       "    </tr>\n",
       "    <tr>\n",
       "      <th>education</th>\n",
       "      <td>-0.231088</td>\n",
       "      <td>0.013627</td>\n",
       "      <td>1.000000</td>\n",
       "      <td>-0.136797</td>\n",
       "      <td>0.182434</td>\n",
       "      <td>0.112593</td>\n",
       "      <td>0.129703</td>\n",
       "      <td>0.122425</td>\n",
       "      <td>0.116531</td>\n",
       "      <td>0.104088</td>\n",
       "      <td>...</td>\n",
       "      <td>-0.006131</td>\n",
       "      <td>-0.012439</td>\n",
       "      <td>-0.012646</td>\n",
       "      <td>-0.041088</td>\n",
       "      <td>-0.032793</td>\n",
       "      <td>-0.044293</td>\n",
       "      <td>-0.040949</td>\n",
       "      <td>-0.045138</td>\n",
       "      <td>-0.044061</td>\n",
       "      <td>0.033842</td>\n",
       "    </tr>\n",
       "    <tr>\n",
       "      <th>marriage</th>\n",
       "      <td>-0.111012</td>\n",
       "      <td>-0.028522</td>\n",
       "      <td>-0.136797</td>\n",
       "      <td>1.000000</td>\n",
       "      <td>-0.412001</td>\n",
       "      <td>0.018557</td>\n",
       "      <td>0.023620</td>\n",
       "      <td>0.032399</td>\n",
       "      <td>0.031831</td>\n",
       "      <td>0.034377</td>\n",
       "      <td>...</td>\n",
       "      <td>-0.027274</td>\n",
       "      <td>-0.029270</td>\n",
       "      <td>-0.025066</td>\n",
       "      <td>-0.004653</td>\n",
       "      <td>-0.009513</td>\n",
       "      <td>-0.004250</td>\n",
       "      <td>-0.013970</td>\n",
       "      <td>-0.003019</td>\n",
       "      <td>-0.008383</td>\n",
       "      <td>-0.027575</td>\n",
       "    </tr>\n",
       "    <tr>\n",
       "      <th>age</th>\n",
       "      <td>0.144713</td>\n",
       "      <td>-0.090874</td>\n",
       "      <td>0.182434</td>\n",
       "      <td>-0.412001</td>\n",
       "      <td>1.000000</td>\n",
       "      <td>-0.039447</td>\n",
       "      <td>-0.050148</td>\n",
       "      <td>-0.053048</td>\n",
       "      <td>-0.049722</td>\n",
       "      <td>-0.053826</td>\n",
       "      <td>...</td>\n",
       "      <td>0.051353</td>\n",
       "      <td>0.049345</td>\n",
       "      <td>0.047613</td>\n",
       "      <td>0.026147</td>\n",
       "      <td>0.021785</td>\n",
       "      <td>0.029247</td>\n",
       "      <td>0.021379</td>\n",
       "      <td>0.022850</td>\n",
       "      <td>0.019478</td>\n",
       "      <td>0.013890</td>\n",
       "    </tr>\n",
       "    <tr>\n",
       "      <th>pay_1</th>\n",
       "      <td>-0.271214</td>\n",
       "      <td>-0.057643</td>\n",
       "      <td>0.112593</td>\n",
       "      <td>0.018557</td>\n",
       "      <td>-0.039447</td>\n",
       "      <td>1.000000</td>\n",
       "      <td>0.672164</td>\n",
       "      <td>0.574245</td>\n",
       "      <td>0.538841</td>\n",
       "      <td>0.509426</td>\n",
       "      <td>...</td>\n",
       "      <td>0.179125</td>\n",
       "      <td>0.180635</td>\n",
       "      <td>0.176980</td>\n",
       "      <td>-0.079269</td>\n",
       "      <td>-0.070101</td>\n",
       "      <td>-0.070561</td>\n",
       "      <td>-0.064005</td>\n",
       "      <td>-0.058190</td>\n",
       "      <td>-0.058673</td>\n",
       "      <td>0.324794</td>\n",
       "    </tr>\n",
       "    <tr>\n",
       "      <th>pay_2</th>\n",
       "      <td>-0.296382</td>\n",
       "      <td>-0.070771</td>\n",
       "      <td>0.129703</td>\n",
       "      <td>0.023620</td>\n",
       "      <td>-0.050148</td>\n",
       "      <td>0.672164</td>\n",
       "      <td>1.000000</td>\n",
       "      <td>0.766552</td>\n",
       "      <td>0.662067</td>\n",
       "      <td>0.622780</td>\n",
       "      <td>...</td>\n",
       "      <td>0.222237</td>\n",
       "      <td>0.221348</td>\n",
       "      <td>0.219403</td>\n",
       "      <td>-0.080701</td>\n",
       "      <td>-0.058990</td>\n",
       "      <td>-0.055901</td>\n",
       "      <td>-0.046858</td>\n",
       "      <td>-0.037093</td>\n",
       "      <td>-0.036500</td>\n",
       "      <td>0.263551</td>\n",
       "    </tr>\n",
       "    <tr>\n",
       "      <th>pay_3</th>\n",
       "      <td>-0.286123</td>\n",
       "      <td>-0.066096</td>\n",
       "      <td>0.122425</td>\n",
       "      <td>0.032399</td>\n",
       "      <td>-0.053048</td>\n",
       "      <td>0.574245</td>\n",
       "      <td>0.766552</td>\n",
       "      <td>1.000000</td>\n",
       "      <td>0.777359</td>\n",
       "      <td>0.686775</td>\n",
       "      <td>...</td>\n",
       "      <td>0.227202</td>\n",
       "      <td>0.225145</td>\n",
       "      <td>0.222327</td>\n",
       "      <td>0.001295</td>\n",
       "      <td>-0.066793</td>\n",
       "      <td>-0.053311</td>\n",
       "      <td>-0.046067</td>\n",
       "      <td>-0.035863</td>\n",
       "      <td>-0.035861</td>\n",
       "      <td>0.235253</td>\n",
       "    </tr>\n",
       "    <tr>\n",
       "      <th>pay_4</th>\n",
       "      <td>-0.267460</td>\n",
       "      <td>-0.060173</td>\n",
       "      <td>0.116531</td>\n",
       "      <td>0.031831</td>\n",
       "      <td>-0.049722</td>\n",
       "      <td>0.538841</td>\n",
       "      <td>0.662067</td>\n",
       "      <td>0.777359</td>\n",
       "      <td>1.000000</td>\n",
       "      <td>0.819835</td>\n",
       "      <td>...</td>\n",
       "      <td>0.245917</td>\n",
       "      <td>0.242902</td>\n",
       "      <td>0.239154</td>\n",
       "      <td>-0.009362</td>\n",
       "      <td>-0.001944</td>\n",
       "      <td>-0.069235</td>\n",
       "      <td>-0.043461</td>\n",
       "      <td>-0.033590</td>\n",
       "      <td>-0.026565</td>\n",
       "      <td>0.216614</td>\n",
       "    </tr>\n",
       "    <tr>\n",
       "      <th>pay_5</th>\n",
       "      <td>-0.249411</td>\n",
       "      <td>-0.055064</td>\n",
       "      <td>0.104088</td>\n",
       "      <td>0.034377</td>\n",
       "      <td>-0.053826</td>\n",
       "      <td>0.509426</td>\n",
       "      <td>0.622780</td>\n",
       "      <td>0.686775</td>\n",
       "      <td>0.819835</td>\n",
       "      <td>1.000000</td>\n",
       "      <td>...</td>\n",
       "      <td>0.271915</td>\n",
       "      <td>0.269783</td>\n",
       "      <td>0.262509</td>\n",
       "      <td>-0.006089</td>\n",
       "      <td>-0.003191</td>\n",
       "      <td>0.009062</td>\n",
       "      <td>-0.058299</td>\n",
       "      <td>-0.033337</td>\n",
       "      <td>-0.023027</td>\n",
       "      <td>0.204149</td>\n",
       "    </tr>\n",
       "    <tr>\n",
       "      <th>pay_6</th>\n",
       "      <td>-0.235195</td>\n",
       "      <td>-0.044008</td>\n",
       "      <td>0.088986</td>\n",
       "      <td>0.033168</td>\n",
       "      <td>-0.048773</td>\n",
       "      <td>0.474553</td>\n",
       "      <td>0.575501</td>\n",
       "      <td>0.632684</td>\n",
       "      <td>0.716449</td>\n",
       "      <td>0.816900</td>\n",
       "      <td>...</td>\n",
       "      <td>0.266356</td>\n",
       "      <td>0.290894</td>\n",
       "      <td>0.285091</td>\n",
       "      <td>-0.001496</td>\n",
       "      <td>-0.005223</td>\n",
       "      <td>0.005834</td>\n",
       "      <td>0.019018</td>\n",
       "      <td>-0.046434</td>\n",
       "      <td>-0.025299</td>\n",
       "      <td>0.186866</td>\n",
       "    </tr>\n",
       "    <tr>\n",
       "      <th>bill_amt1</th>\n",
       "      <td>0.285430</td>\n",
       "      <td>-0.033642</td>\n",
       "      <td>0.016597</td>\n",
       "      <td>-0.027832</td>\n",
       "      <td>0.056239</td>\n",
       "      <td>0.187068</td>\n",
       "      <td>0.234887</td>\n",
       "      <td>0.208473</td>\n",
       "      <td>0.202812</td>\n",
       "      <td>0.206684</td>\n",
       "      <td>...</td>\n",
       "      <td>0.860272</td>\n",
       "      <td>0.829779</td>\n",
       "      <td>0.802650</td>\n",
       "      <td>0.140277</td>\n",
       "      <td>0.099355</td>\n",
       "      <td>0.156887</td>\n",
       "      <td>0.158303</td>\n",
       "      <td>0.167026</td>\n",
       "      <td>0.179341</td>\n",
       "      <td>-0.019644</td>\n",
       "    </tr>\n",
       "    <tr>\n",
       "      <th>bill_amt2</th>\n",
       "      <td>0.278314</td>\n",
       "      <td>-0.031183</td>\n",
       "      <td>0.011980</td>\n",
       "      <td>-0.025294</td>\n",
       "      <td>0.054283</td>\n",
       "      <td>0.189859</td>\n",
       "      <td>0.235257</td>\n",
       "      <td>0.237295</td>\n",
       "      <td>0.225816</td>\n",
       "      <td>0.226913</td>\n",
       "      <td>...</td>\n",
       "      <td>0.892482</td>\n",
       "      <td>0.859778</td>\n",
       "      <td>0.831594</td>\n",
       "      <td>0.280365</td>\n",
       "      <td>0.100851</td>\n",
       "      <td>0.150718</td>\n",
       "      <td>0.147398</td>\n",
       "      <td>0.157957</td>\n",
       "      <td>0.174256</td>\n",
       "      <td>-0.014193</td>\n",
       "    </tr>\n",
       "    <tr>\n",
       "      <th>bill_amt3</th>\n",
       "      <td>0.283236</td>\n",
       "      <td>-0.024563</td>\n",
       "      <td>0.006714</td>\n",
       "      <td>-0.029082</td>\n",
       "      <td>0.053710</td>\n",
       "      <td>0.179785</td>\n",
       "      <td>0.224146</td>\n",
       "      <td>0.227494</td>\n",
       "      <td>0.244983</td>\n",
       "      <td>0.243335</td>\n",
       "      <td>...</td>\n",
       "      <td>0.923969</td>\n",
       "      <td>0.883910</td>\n",
       "      <td>0.853320</td>\n",
       "      <td>0.244335</td>\n",
       "      <td>0.316936</td>\n",
       "      <td>0.130011</td>\n",
       "      <td>0.143405</td>\n",
       "      <td>0.179712</td>\n",
       "      <td>0.182326</td>\n",
       "      <td>-0.014076</td>\n",
       "    </tr>\n",
       "    <tr>\n",
       "      <th>bill_amt4</th>\n",
       "      <td>0.293988</td>\n",
       "      <td>-0.021880</td>\n",
       "      <td>-0.006131</td>\n",
       "      <td>-0.027274</td>\n",
       "      <td>0.051353</td>\n",
       "      <td>0.179125</td>\n",
       "      <td>0.222237</td>\n",
       "      <td>0.227202</td>\n",
       "      <td>0.245917</td>\n",
       "      <td>0.271915</td>\n",
       "      <td>...</td>\n",
       "      <td>1.000000</td>\n",
       "      <td>0.940134</td>\n",
       "      <td>0.900941</td>\n",
       "      <td>0.233012</td>\n",
       "      <td>0.207564</td>\n",
       "      <td>0.300023</td>\n",
       "      <td>0.130191</td>\n",
       "      <td>0.160433</td>\n",
       "      <td>0.177637</td>\n",
       "      <td>-0.010156</td>\n",
       "    </tr>\n",
       "    <tr>\n",
       "      <th>bill_amt5</th>\n",
       "      <td>0.295562</td>\n",
       "      <td>-0.017005</td>\n",
       "      <td>-0.012439</td>\n",
       "      <td>-0.029270</td>\n",
       "      <td>0.049345</td>\n",
       "      <td>0.180635</td>\n",
       "      <td>0.221348</td>\n",
       "      <td>0.225145</td>\n",
       "      <td>0.242902</td>\n",
       "      <td>0.269783</td>\n",
       "      <td>...</td>\n",
       "      <td>0.940134</td>\n",
       "      <td>1.000000</td>\n",
       "      <td>0.946197</td>\n",
       "      <td>0.217031</td>\n",
       "      <td>0.181246</td>\n",
       "      <td>0.252305</td>\n",
       "      <td>0.293118</td>\n",
       "      <td>0.141574</td>\n",
       "      <td>0.164184</td>\n",
       "      <td>-0.006760</td>\n",
       "    </tr>\n",
       "    <tr>\n",
       "      <th>bill_amt6</th>\n",
       "      <td>0.290389</td>\n",
       "      <td>-0.016733</td>\n",
       "      <td>-0.012646</td>\n",
       "      <td>-0.025066</td>\n",
       "      <td>0.047613</td>\n",
       "      <td>0.176980</td>\n",
       "      <td>0.219403</td>\n",
       "      <td>0.222327</td>\n",
       "      <td>0.239154</td>\n",
       "      <td>0.262509</td>\n",
       "      <td>...</td>\n",
       "      <td>0.900941</td>\n",
       "      <td>0.946197</td>\n",
       "      <td>1.000000</td>\n",
       "      <td>0.199965</td>\n",
       "      <td>0.172663</td>\n",
       "      <td>0.233770</td>\n",
       "      <td>0.250237</td>\n",
       "      <td>0.307729</td>\n",
       "      <td>0.115494</td>\n",
       "      <td>-0.005372</td>\n",
       "    </tr>\n",
       "    <tr>\n",
       "      <th>pay_amt1</th>\n",
       "      <td>0.195236</td>\n",
       "      <td>-0.000242</td>\n",
       "      <td>-0.041088</td>\n",
       "      <td>-0.004653</td>\n",
       "      <td>0.026147</td>\n",
       "      <td>-0.079269</td>\n",
       "      <td>-0.080701</td>\n",
       "      <td>0.001295</td>\n",
       "      <td>-0.009362</td>\n",
       "      <td>-0.006089</td>\n",
       "      <td>...</td>\n",
       "      <td>0.233012</td>\n",
       "      <td>0.217031</td>\n",
       "      <td>0.199965</td>\n",
       "      <td>1.000000</td>\n",
       "      <td>0.285576</td>\n",
       "      <td>0.252191</td>\n",
       "      <td>0.199558</td>\n",
       "      <td>0.148459</td>\n",
       "      <td>0.185735</td>\n",
       "      <td>-0.072929</td>\n",
       "    </tr>\n",
       "    <tr>\n",
       "      <th>pay_amt2</th>\n",
       "      <td>0.178408</td>\n",
       "      <td>-0.001391</td>\n",
       "      <td>-0.032793</td>\n",
       "      <td>-0.009513</td>\n",
       "      <td>0.021785</td>\n",
       "      <td>-0.070101</td>\n",
       "      <td>-0.058990</td>\n",
       "      <td>-0.066793</td>\n",
       "      <td>-0.001944</td>\n",
       "      <td>-0.003191</td>\n",
       "      <td>...</td>\n",
       "      <td>0.207564</td>\n",
       "      <td>0.181246</td>\n",
       "      <td>0.172663</td>\n",
       "      <td>0.285576</td>\n",
       "      <td>1.000000</td>\n",
       "      <td>0.244770</td>\n",
       "      <td>0.180107</td>\n",
       "      <td>0.180908</td>\n",
       "      <td>0.157634</td>\n",
       "      <td>-0.058579</td>\n",
       "    </tr>\n",
       "    <tr>\n",
       "      <th>pay_amt3</th>\n",
       "      <td>0.210167</td>\n",
       "      <td>-0.008597</td>\n",
       "      <td>-0.044293</td>\n",
       "      <td>-0.004250</td>\n",
       "      <td>0.029247</td>\n",
       "      <td>-0.070561</td>\n",
       "      <td>-0.055901</td>\n",
       "      <td>-0.053311</td>\n",
       "      <td>-0.069235</td>\n",
       "      <td>0.009062</td>\n",
       "      <td>...</td>\n",
       "      <td>0.300023</td>\n",
       "      <td>0.252305</td>\n",
       "      <td>0.233770</td>\n",
       "      <td>0.252191</td>\n",
       "      <td>0.244770</td>\n",
       "      <td>1.000000</td>\n",
       "      <td>0.216325</td>\n",
       "      <td>0.159214</td>\n",
       "      <td>0.162740</td>\n",
       "      <td>-0.056250</td>\n",
       "    </tr>\n",
       "    <tr>\n",
       "      <th>pay_amt4</th>\n",
       "      <td>0.203242</td>\n",
       "      <td>-0.002229</td>\n",
       "      <td>-0.040949</td>\n",
       "      <td>-0.013970</td>\n",
       "      <td>0.021379</td>\n",
       "      <td>-0.064005</td>\n",
       "      <td>-0.046858</td>\n",
       "      <td>-0.046067</td>\n",
       "      <td>-0.043461</td>\n",
       "      <td>-0.058299</td>\n",
       "      <td>...</td>\n",
       "      <td>0.130191</td>\n",
       "      <td>0.293118</td>\n",
       "      <td>0.250237</td>\n",
       "      <td>0.199558</td>\n",
       "      <td>0.180107</td>\n",
       "      <td>0.216325</td>\n",
       "      <td>1.000000</td>\n",
       "      <td>0.151830</td>\n",
       "      <td>0.157834</td>\n",
       "      <td>-0.056827</td>\n",
       "    </tr>\n",
       "    <tr>\n",
       "      <th>pay_amt5</th>\n",
       "      <td>0.217202</td>\n",
       "      <td>-0.001667</td>\n",
       "      <td>-0.045138</td>\n",
       "      <td>-0.003019</td>\n",
       "      <td>0.022850</td>\n",
       "      <td>-0.058190</td>\n",
       "      <td>-0.037093</td>\n",
       "      <td>-0.035863</td>\n",
       "      <td>-0.033590</td>\n",
       "      <td>-0.033337</td>\n",
       "      <td>...</td>\n",
       "      <td>0.160433</td>\n",
       "      <td>0.141574</td>\n",
       "      <td>0.307729</td>\n",
       "      <td>0.148459</td>\n",
       "      <td>0.180908</td>\n",
       "      <td>0.159214</td>\n",
       "      <td>0.151830</td>\n",
       "      <td>1.000000</td>\n",
       "      <td>0.154896</td>\n",
       "      <td>-0.055124</td>\n",
       "    </tr>\n",
       "    <tr>\n",
       "      <th>pay_amt6</th>\n",
       "      <td>0.219595</td>\n",
       "      <td>-0.002766</td>\n",
       "      <td>-0.044061</td>\n",
       "      <td>-0.008383</td>\n",
       "      <td>0.019478</td>\n",
       "      <td>-0.058673</td>\n",
       "      <td>-0.036500</td>\n",
       "      <td>-0.035861</td>\n",
       "      <td>-0.026565</td>\n",
       "      <td>-0.023027</td>\n",
       "      <td>...</td>\n",
       "      <td>0.177637</td>\n",
       "      <td>0.164184</td>\n",
       "      <td>0.115494</td>\n",
       "      <td>0.185735</td>\n",
       "      <td>0.157634</td>\n",
       "      <td>0.162740</td>\n",
       "      <td>0.157834</td>\n",
       "      <td>0.154896</td>\n",
       "      <td>1.000000</td>\n",
       "      <td>-0.053183</td>\n",
       "    </tr>\n",
       "    <tr>\n",
       "      <th>dflt_pmt</th>\n",
       "      <td>-0.153520</td>\n",
       "      <td>-0.039961</td>\n",
       "      <td>0.033842</td>\n",
       "      <td>-0.027575</td>\n",
       "      <td>0.013890</td>\n",
       "      <td>0.324794</td>\n",
       "      <td>0.263551</td>\n",
       "      <td>0.235253</td>\n",
       "      <td>0.216614</td>\n",
       "      <td>0.204149</td>\n",
       "      <td>...</td>\n",
       "      <td>-0.010156</td>\n",
       "      <td>-0.006760</td>\n",
       "      <td>-0.005372</td>\n",
       "      <td>-0.072929</td>\n",
       "      <td>-0.058579</td>\n",
       "      <td>-0.056250</td>\n",
       "      <td>-0.056827</td>\n",
       "      <td>-0.055124</td>\n",
       "      <td>-0.053183</td>\n",
       "      <td>1.000000</td>\n",
       "    </tr>\n",
       "  </tbody>\n",
       "</table>\n",
       "<p>24 rows × 24 columns</p>\n",
       "</div>"
      ],
      "text/plain": [
       "           limit_bal       sex  education  marriage       age     pay_1  \\\n",
       "limit_bal   1.000000  0.024755  -0.231088 -0.111012  0.144713 -0.271214   \n",
       "sex         0.024755  1.000000   0.013627 -0.028522 -0.090874 -0.057643   \n",
       "education  -0.231088  0.013627   1.000000 -0.136797  0.182434  0.112593   \n",
       "marriage   -0.111012 -0.028522  -0.136797  1.000000 -0.412001  0.018557   \n",
       "age         0.144713 -0.090874   0.182434 -0.412001  1.000000 -0.039447   \n",
       "pay_1      -0.271214 -0.057643   0.112593  0.018557 -0.039447  1.000000   \n",
       "pay_2      -0.296382 -0.070771   0.129703  0.023620 -0.050148  0.672164   \n",
       "pay_3      -0.286123 -0.066096   0.122425  0.032399 -0.053048  0.574245   \n",
       "pay_4      -0.267460 -0.060173   0.116531  0.031831 -0.049722  0.538841   \n",
       "pay_5      -0.249411 -0.055064   0.104088  0.034377 -0.053826  0.509426   \n",
       "pay_6      -0.235195 -0.044008   0.088986  0.033168 -0.048773  0.474553   \n",
       "bill_amt1   0.285430 -0.033642   0.016597 -0.027832  0.056239  0.187068   \n",
       "bill_amt2   0.278314 -0.031183   0.011980 -0.025294  0.054283  0.189859   \n",
       "bill_amt3   0.283236 -0.024563   0.006714 -0.029082  0.053710  0.179785   \n",
       "bill_amt4   0.293988 -0.021880  -0.006131 -0.027274  0.051353  0.179125   \n",
       "bill_amt5   0.295562 -0.017005  -0.012439 -0.029270  0.049345  0.180635   \n",
       "bill_amt6   0.290389 -0.016733  -0.012646 -0.025066  0.047613  0.176980   \n",
       "pay_amt1    0.195236 -0.000242  -0.041088 -0.004653  0.026147 -0.079269   \n",
       "pay_amt2    0.178408 -0.001391  -0.032793 -0.009513  0.021785 -0.070101   \n",
       "pay_amt3    0.210167 -0.008597  -0.044293 -0.004250  0.029247 -0.070561   \n",
       "pay_amt4    0.203242 -0.002229  -0.040949 -0.013970  0.021379 -0.064005   \n",
       "pay_amt5    0.217202 -0.001667  -0.045138 -0.003019  0.022850 -0.058190   \n",
       "pay_amt6    0.219595 -0.002766  -0.044061 -0.008383  0.019478 -0.058673   \n",
       "dflt_pmt   -0.153520 -0.039961   0.033842 -0.027575  0.013890  0.324794   \n",
       "\n",
       "              pay_2     pay_3     pay_4     pay_5  ...  bill_amt4  bill_amt5  \\\n",
       "limit_bal -0.296382 -0.286123 -0.267460 -0.249411  ...   0.293988   0.295562   \n",
       "sex       -0.070771 -0.066096 -0.060173 -0.055064  ...  -0.021880  -0.017005   \n",
       "education  0.129703  0.122425  0.116531  0.104088  ...  -0.006131  -0.012439   \n",
       "marriage   0.023620  0.032399  0.031831  0.034377  ...  -0.027274  -0.029270   \n",
       "age       -0.050148 -0.053048 -0.049722 -0.053826  ...   0.051353   0.049345   \n",
       "pay_1      0.672164  0.574245  0.538841  0.509426  ...   0.179125   0.180635   \n",
       "pay_2      1.000000  0.766552  0.662067  0.622780  ...   0.222237   0.221348   \n",
       "pay_3      0.766552  1.000000  0.777359  0.686775  ...   0.227202   0.225145   \n",
       "pay_4      0.662067  0.777359  1.000000  0.819835  ...   0.245917   0.242902   \n",
       "pay_5      0.622780  0.686775  0.819835  1.000000  ...   0.271915   0.269783   \n",
       "pay_6      0.575501  0.632684  0.716449  0.816900  ...   0.266356   0.290894   \n",
       "bill_amt1  0.234887  0.208473  0.202812  0.206684  ...   0.860272   0.829779   \n",
       "bill_amt2  0.235257  0.237295  0.225816  0.226913  ...   0.892482   0.859778   \n",
       "bill_amt3  0.224146  0.227494  0.244983  0.243335  ...   0.923969   0.883910   \n",
       "bill_amt4  0.222237  0.227202  0.245917  0.271915  ...   1.000000   0.940134   \n",
       "bill_amt5  0.221348  0.225145  0.242902  0.269783  ...   0.940134   1.000000   \n",
       "bill_amt6  0.219403  0.222327  0.239154  0.262509  ...   0.900941   0.946197   \n",
       "pay_amt1  -0.080701  0.001295 -0.009362 -0.006089  ...   0.233012   0.217031   \n",
       "pay_amt2  -0.058990 -0.066793 -0.001944 -0.003191  ...   0.207564   0.181246   \n",
       "pay_amt3  -0.055901 -0.053311 -0.069235  0.009062  ...   0.300023   0.252305   \n",
       "pay_amt4  -0.046858 -0.046067 -0.043461 -0.058299  ...   0.130191   0.293118   \n",
       "pay_amt5  -0.037093 -0.035863 -0.033590 -0.033337  ...   0.160433   0.141574   \n",
       "pay_amt6  -0.036500 -0.035861 -0.026565 -0.023027  ...   0.177637   0.164184   \n",
       "dflt_pmt   0.263551  0.235253  0.216614  0.204149  ...  -0.010156  -0.006760   \n",
       "\n",
       "           bill_amt6  pay_amt1  pay_amt2  pay_amt3  pay_amt4  pay_amt5  \\\n",
       "limit_bal   0.290389  0.195236  0.178408  0.210167  0.203242  0.217202   \n",
       "sex        -0.016733 -0.000242 -0.001391 -0.008597 -0.002229 -0.001667   \n",
       "education  -0.012646 -0.041088 -0.032793 -0.044293 -0.040949 -0.045138   \n",
       "marriage   -0.025066 -0.004653 -0.009513 -0.004250 -0.013970 -0.003019   \n",
       "age         0.047613  0.026147  0.021785  0.029247  0.021379  0.022850   \n",
       "pay_1       0.176980 -0.079269 -0.070101 -0.070561 -0.064005 -0.058190   \n",
       "pay_2       0.219403 -0.080701 -0.058990 -0.055901 -0.046858 -0.037093   \n",
       "pay_3       0.222327  0.001295 -0.066793 -0.053311 -0.046067 -0.035863   \n",
       "pay_4       0.239154 -0.009362 -0.001944 -0.069235 -0.043461 -0.033590   \n",
       "pay_5       0.262509 -0.006089 -0.003191  0.009062 -0.058299 -0.033337   \n",
       "pay_6       0.285091 -0.001496 -0.005223  0.005834  0.019018 -0.046434   \n",
       "bill_amt1   0.802650  0.140277  0.099355  0.156887  0.158303  0.167026   \n",
       "bill_amt2   0.831594  0.280365  0.100851  0.150718  0.147398  0.157957   \n",
       "bill_amt3   0.853320  0.244335  0.316936  0.130011  0.143405  0.179712   \n",
       "bill_amt4   0.900941  0.233012  0.207564  0.300023  0.130191  0.160433   \n",
       "bill_amt5   0.946197  0.217031  0.181246  0.252305  0.293118  0.141574   \n",
       "bill_amt6   1.000000  0.199965  0.172663  0.233770  0.250237  0.307729   \n",
       "pay_amt1    0.199965  1.000000  0.285576  0.252191  0.199558  0.148459   \n",
       "pay_amt2    0.172663  0.285576  1.000000  0.244770  0.180107  0.180908   \n",
       "pay_amt3    0.233770  0.252191  0.244770  1.000000  0.216325  0.159214   \n",
       "pay_amt4    0.250237  0.199558  0.180107  0.216325  1.000000  0.151830   \n",
       "pay_amt5    0.307729  0.148459  0.180908  0.159214  0.151830  1.000000   \n",
       "pay_amt6    0.115494  0.185735  0.157634  0.162740  0.157834  0.154896   \n",
       "dflt_pmt   -0.005372 -0.072929 -0.058579 -0.056250 -0.056827 -0.055124   \n",
       "\n",
       "           pay_amt6  dflt_pmt  \n",
       "limit_bal  0.219595 -0.153520  \n",
       "sex       -0.002766 -0.039961  \n",
       "education -0.044061  0.033842  \n",
       "marriage  -0.008383 -0.027575  \n",
       "age        0.019478  0.013890  \n",
       "pay_1     -0.058673  0.324794  \n",
       "pay_2     -0.036500  0.263551  \n",
       "pay_3     -0.035861  0.235253  \n",
       "pay_4     -0.026565  0.216614  \n",
       "pay_5     -0.023027  0.204149  \n",
       "pay_6     -0.025299  0.186866  \n",
       "bill_amt1  0.179341 -0.019644  \n",
       "bill_amt2  0.174256 -0.014193  \n",
       "bill_amt3  0.182326 -0.014076  \n",
       "bill_amt4  0.177637 -0.010156  \n",
       "bill_amt5  0.164184 -0.006760  \n",
       "bill_amt6  0.115494 -0.005372  \n",
       "pay_amt1   0.185735 -0.072929  \n",
       "pay_amt2   0.157634 -0.058579  \n",
       "pay_amt3   0.162740 -0.056250  \n",
       "pay_amt4   0.157834 -0.056827  \n",
       "pay_amt5   0.154896 -0.055124  \n",
       "pay_amt6   1.000000 -0.053183  \n",
       "dflt_pmt  -0.053183  1.000000  \n",
       "\n",
       "[24 rows x 24 columns]"
      ]
     },
     "execution_count": 30,
     "metadata": {},
     "output_type": "execute_result"
    }
   ],
   "source": [
    "default_data.corr()"
   ]
  },
  {
   "cell_type": "markdown",
   "metadata": {},
   "source": [
    "As we can see the strongest correlation which the default payment(dflt_pmt) has is with columns pay_1 to pay_6 decreasing the correlation in the same order."
   ]
  },
  {
   "cell_type": "markdown",
   "metadata": {},
   "source": [
    "### 3.3 Preparing the datasets for the predictive algorithms."
   ]
  },
  {
   "cell_type": "markdown",
   "metadata": {},
   "source": [
    "Let's first determine the categorical variables."
   ]
  },
  {
   "cell_type": "code",
   "execution_count": 31,
   "metadata": {},
   "outputs": [],
   "source": [
    "#We can save a back-up of the defaul data as well.\n",
    "bk_up = default_data"
   ]
  },
  {
   "cell_type": "code",
   "execution_count": 32,
   "metadata": {},
   "outputs": [],
   "source": [
    "default_data = pd.get_dummies(default_data, columns = [\"sex\",\"education\",\"marriage\",\"age\",\"pay_1\", \"pay_2\", \"pay_3\", \"pay_4\", \"pay_5\"])"
   ]
  },
  {
   "cell_type": "code",
   "execution_count": 33,
   "metadata": {},
   "outputs": [
    {
     "data": {
      "text/plain": [
       "(30000, 134)"
      ]
     },
     "execution_count": 33,
     "metadata": {},
     "output_type": "execute_result"
    }
   ],
   "source": [
    "#Now let's check the new shape of the dataset.\n",
    "default_data.shape"
   ]
  },
  {
   "cell_type": "markdown",
   "metadata": {},
   "source": [
    "We need to divide the dataset into output (target) where the results are and the features in two separate datasets."
   ]
  },
  {
   "cell_type": "code",
   "execution_count": 34,
   "metadata": {},
   "outputs": [],
   "source": [
    "default_attributes = default_data.drop(\"dflt_pmt\", axis = 1)\n",
    "default_labels = default_data[\"dflt_pmt\"]"
   ]
  },
  {
   "cell_type": "code",
   "execution_count": 35,
   "metadata": {},
   "outputs": [
    {
     "name": "stderr",
     "output_type": "stream",
     "text": [
      "C:\\Users\\Hegemony\\Anaconda3\\lib\\site-packages\\sklearn\\preprocessing\\data.py:334: DataConversionWarning: Data with input dtype uint8, int64, float64 were all converted to float64 by MinMaxScaler.\n",
      "  return self.partial_fit(X, y)\n"
     ]
    }
   ],
   "source": [
    "#Now let's normalize the data and keep the column names.\n",
    "scaler = MinMaxScaler()\n",
    "default_attributes = pd.DataFrame(scaler.fit_transform(default_attributes), index=default_attributes.index, columns=default_attributes.columns)"
   ]
  },
  {
   "cell_type": "code",
   "execution_count": 36,
   "metadata": {},
   "outputs": [
    {
     "data": {
      "text/html": [
       "<div>\n",
       "<style scoped>\n",
       "    .dataframe tbody tr th:only-of-type {\n",
       "        vertical-align: middle;\n",
       "    }\n",
       "\n",
       "    .dataframe tbody tr th {\n",
       "        vertical-align: top;\n",
       "    }\n",
       "\n",
       "    .dataframe thead th {\n",
       "        text-align: right;\n",
       "    }\n",
       "</style>\n",
       "<table border=\"1\" class=\"dataframe\">\n",
       "  <thead>\n",
       "    <tr style=\"text-align: right;\">\n",
       "      <th></th>\n",
       "      <th>limit_bal</th>\n",
       "      <th>pay_6</th>\n",
       "      <th>bill_amt1</th>\n",
       "      <th>bill_amt2</th>\n",
       "      <th>bill_amt3</th>\n",
       "      <th>bill_amt4</th>\n",
       "      <th>bill_amt5</th>\n",
       "      <th>bill_amt6</th>\n",
       "      <th>pay_amt1</th>\n",
       "      <th>pay_amt2</th>\n",
       "      <th>...</th>\n",
       "      <th>pay_5_-2</th>\n",
       "      <th>pay_5_-1</th>\n",
       "      <th>pay_5_0</th>\n",
       "      <th>pay_5_2</th>\n",
       "      <th>pay_5_3</th>\n",
       "      <th>pay_5_4</th>\n",
       "      <th>pay_5_5</th>\n",
       "      <th>pay_5_6</th>\n",
       "      <th>pay_5_7</th>\n",
       "      <th>pay_5_8</th>\n",
       "    </tr>\n",
       "    <tr>\n",
       "      <th>ID</th>\n",
       "      <th></th>\n",
       "      <th></th>\n",
       "      <th></th>\n",
       "      <th></th>\n",
       "      <th></th>\n",
       "      <th></th>\n",
       "      <th></th>\n",
       "      <th></th>\n",
       "      <th></th>\n",
       "      <th></th>\n",
       "      <th></th>\n",
       "      <th></th>\n",
       "      <th></th>\n",
       "      <th></th>\n",
       "      <th></th>\n",
       "      <th></th>\n",
       "      <th></th>\n",
       "      <th></th>\n",
       "      <th></th>\n",
       "      <th></th>\n",
       "      <th></th>\n",
       "    </tr>\n",
       "  </thead>\n",
       "  <tbody>\n",
       "    <tr>\n",
       "      <th>1</th>\n",
       "      <td>0.010101</td>\n",
       "      <td>0.0</td>\n",
       "      <td>0.149982</td>\n",
       "      <td>0.069164</td>\n",
       "      <td>0.086723</td>\n",
       "      <td>0.160138</td>\n",
       "      <td>0.080648</td>\n",
       "      <td>0.260979</td>\n",
       "      <td>0.000000</td>\n",
       "      <td>0.000409</td>\n",
       "      <td>...</td>\n",
       "      <td>1.0</td>\n",
       "      <td>0.0</td>\n",
       "      <td>0.0</td>\n",
       "      <td>0.0</td>\n",
       "      <td>0.0</td>\n",
       "      <td>0.0</td>\n",
       "      <td>0.0</td>\n",
       "      <td>0.0</td>\n",
       "      <td>0.0</td>\n",
       "      <td>0.0</td>\n",
       "    </tr>\n",
       "    <tr>\n",
       "      <th>2</th>\n",
       "      <td>0.111111</td>\n",
       "      <td>0.4</td>\n",
       "      <td>0.148892</td>\n",
       "      <td>0.067858</td>\n",
       "      <td>0.087817</td>\n",
       "      <td>0.163220</td>\n",
       "      <td>0.084074</td>\n",
       "      <td>0.263485</td>\n",
       "      <td>0.000000</td>\n",
       "      <td>0.000594</td>\n",
       "      <td>...</td>\n",
       "      <td>0.0</td>\n",
       "      <td>0.0</td>\n",
       "      <td>1.0</td>\n",
       "      <td>0.0</td>\n",
       "      <td>0.0</td>\n",
       "      <td>0.0</td>\n",
       "      <td>0.0</td>\n",
       "      <td>0.0</td>\n",
       "      <td>0.0</td>\n",
       "      <td>0.0</td>\n",
       "    </tr>\n",
       "    <tr>\n",
       "      <th>3</th>\n",
       "      <td>0.080808</td>\n",
       "      <td>0.2</td>\n",
       "      <td>0.172392</td>\n",
       "      <td>0.079532</td>\n",
       "      <td>0.093789</td>\n",
       "      <td>0.173637</td>\n",
       "      <td>0.095470</td>\n",
       "      <td>0.272928</td>\n",
       "      <td>0.001738</td>\n",
       "      <td>0.000891</td>\n",
       "      <td>...</td>\n",
       "      <td>0.0</td>\n",
       "      <td>0.0</td>\n",
       "      <td>1.0</td>\n",
       "      <td>0.0</td>\n",
       "      <td>0.0</td>\n",
       "      <td>0.0</td>\n",
       "      <td>0.0</td>\n",
       "      <td>0.0</td>\n",
       "      <td>0.0</td>\n",
       "      <td>0.0</td>\n",
       "    </tr>\n",
       "    <tr>\n",
       "      <th>4</th>\n",
       "      <td>0.040404</td>\n",
       "      <td>0.2</td>\n",
       "      <td>0.188100</td>\n",
       "      <td>0.111995</td>\n",
       "      <td>0.113407</td>\n",
       "      <td>0.186809</td>\n",
       "      <td>0.109363</td>\n",
       "      <td>0.283685</td>\n",
       "      <td>0.002290</td>\n",
       "      <td>0.001199</td>\n",
       "      <td>...</td>\n",
       "      <td>0.0</td>\n",
       "      <td>0.0</td>\n",
       "      <td>1.0</td>\n",
       "      <td>0.0</td>\n",
       "      <td>0.0</td>\n",
       "      <td>0.0</td>\n",
       "      <td>0.0</td>\n",
       "      <td>0.0</td>\n",
       "      <td>0.0</td>\n",
       "      <td>0.0</td>\n",
       "    </tr>\n",
       "    <tr>\n",
       "      <th>5</th>\n",
       "      <td>0.040404</td>\n",
       "      <td>0.2</td>\n",
       "      <td>0.154144</td>\n",
       "      <td>0.071601</td>\n",
       "      <td>0.106020</td>\n",
       "      <td>0.179863</td>\n",
       "      <td>0.099633</td>\n",
       "      <td>0.275681</td>\n",
       "      <td>0.002290</td>\n",
       "      <td>0.021779</td>\n",
       "      <td>...</td>\n",
       "      <td>0.0</td>\n",
       "      <td>0.0</td>\n",
       "      <td>1.0</td>\n",
       "      <td>0.0</td>\n",
       "      <td>0.0</td>\n",
       "      <td>0.0</td>\n",
       "      <td>0.0</td>\n",
       "      <td>0.0</td>\n",
       "      <td>0.0</td>\n",
       "      <td>0.0</td>\n",
       "    </tr>\n",
       "  </tbody>\n",
       "</table>\n",
       "<p>5 rows × 133 columns</p>\n",
       "</div>"
      ],
      "text/plain": [
       "    limit_bal  pay_6  bill_amt1  bill_amt2  bill_amt3  bill_amt4  bill_amt5  \\\n",
       "ID                                                                            \n",
       "1    0.010101    0.0   0.149982   0.069164   0.086723   0.160138   0.080648   \n",
       "2    0.111111    0.4   0.148892   0.067858   0.087817   0.163220   0.084074   \n",
       "3    0.080808    0.2   0.172392   0.079532   0.093789   0.173637   0.095470   \n",
       "4    0.040404    0.2   0.188100   0.111995   0.113407   0.186809   0.109363   \n",
       "5    0.040404    0.2   0.154144   0.071601   0.106020   0.179863   0.099633   \n",
       "\n",
       "    bill_amt6  pay_amt1  pay_amt2  ...  pay_5_-2  pay_5_-1  pay_5_0  pay_5_2  \\\n",
       "ID                                 ...                                         \n",
       "1    0.260979  0.000000  0.000409  ...       1.0       0.0      0.0      0.0   \n",
       "2    0.263485  0.000000  0.000594  ...       0.0       0.0      1.0      0.0   \n",
       "3    0.272928  0.001738  0.000891  ...       0.0       0.0      1.0      0.0   \n",
       "4    0.283685  0.002290  0.001199  ...       0.0       0.0      1.0      0.0   \n",
       "5    0.275681  0.002290  0.021779  ...       0.0       0.0      1.0      0.0   \n",
       "\n",
       "    pay_5_3  pay_5_4  pay_5_5  pay_5_6  pay_5_7  pay_5_8  \n",
       "ID                                                        \n",
       "1       0.0      0.0      0.0      0.0      0.0      0.0  \n",
       "2       0.0      0.0      0.0      0.0      0.0      0.0  \n",
       "3       0.0      0.0      0.0      0.0      0.0      0.0  \n",
       "4       0.0      0.0      0.0      0.0      0.0      0.0  \n",
       "5       0.0      0.0      0.0      0.0      0.0      0.0  \n",
       "\n",
       "[5 rows x 133 columns]"
      ]
     },
     "execution_count": 36,
     "metadata": {},
     "output_type": "execute_result"
    }
   ],
   "source": [
    "#Check what we did.\n",
    "default_attributes.head()"
   ]
  },
  {
   "cell_type": "code",
   "execution_count": 37,
   "metadata": {},
   "outputs": [
    {
     "name": "stderr",
     "output_type": "stream",
     "text": [
      "C:\\Users\\Hegemony\\Anaconda3\\lib\\site-packages\\sklearn\\model_selection\\_split.py:2179: FutureWarning: From version 0.21, test_size will always complement train_size unless both are specified.\n",
      "  FutureWarning)\n"
     ]
    }
   ],
   "source": [
    "#Now let's split the data into train and test datasets.\n",
    "default_attributes_train, default_attributes_test, default_labels_train, default_labels_test = train_test_split(default_attributes, \\\n",
    "                                default_labels, train_size = 0.7, stratify = default_labels)"
   ]
  },
  {
   "cell_type": "markdown",
   "metadata": {},
   "source": [
    "And again I'm going to check each of the new datasets below."
   ]
  },
  {
   "cell_type": "code",
   "execution_count": 38,
   "metadata": {},
   "outputs": [
    {
     "data": {
      "text/plain": [
       "(21000, 133)"
      ]
     },
     "execution_count": 38,
     "metadata": {},
     "output_type": "execute_result"
    }
   ],
   "source": [
    "default_attributes_train.shape"
   ]
  },
  {
   "cell_type": "code",
   "execution_count": 39,
   "metadata": {},
   "outputs": [
    {
     "data": {
      "text/plain": [
       "(9000, 133)"
      ]
     },
     "execution_count": 39,
     "metadata": {},
     "output_type": "execute_result"
    }
   ],
   "source": [
    "default_attributes_test.shape"
   ]
  },
  {
   "cell_type": "code",
   "execution_count": 40,
   "metadata": {},
   "outputs": [
    {
     "data": {
      "text/plain": [
       "(21000,)"
      ]
     },
     "execution_count": 40,
     "metadata": {},
     "output_type": "execute_result"
    }
   ],
   "source": [
    "default_labels_train.shape"
   ]
  },
  {
   "cell_type": "code",
   "execution_count": 41,
   "metadata": {},
   "outputs": [
    {
     "data": {
      "text/plain": [
       "(9000,)"
      ]
     },
     "execution_count": 41,
     "metadata": {},
     "output_type": "execute_result"
    }
   ],
   "source": [
    "default_labels_test.shape"
   ]
  },
  {
   "cell_type": "code",
   "execution_count": 42,
   "metadata": {},
   "outputs": [
    {
     "data": {
      "text/plain": [
       "dflt_pmt\n",
       "0    0.77881\n",
       "1    0.22119\n",
       "Name: dflt_pmt, dtype: float64"
      ]
     },
     "execution_count": 42,
     "metadata": {},
     "output_type": "execute_result"
    }
   ],
   "source": [
    "#A quick check if the stratification in train_test_split a few rows above is ok.\n",
    "pd.Series(default_labels_train).groupby(default_labels_train).size() / len(default_labels_train)"
   ]
  },
  {
   "cell_type": "markdown",
   "metadata": {},
   "source": [
    "Good. The only thing left is to prepare a stratified k_fold for the train data which has already been shuffled with the train_test_split in order to prevent any data leakage. "
   ]
  },
  {
   "cell_type": "code",
   "execution_count": 43,
   "metadata": {},
   "outputs": [],
   "source": [
    "skf = StratifiedKFold(n_splits = 5, shuffle = False)\n",
    "k_fold = list(skf.split(default_attributes_train, default_labels_train))"
   ]
  },
  {
   "cell_type": "markdown",
   "metadata": {},
   "source": [
    "## 4. Predictive algorithms"
   ]
  },
  {
   "cell_type": "markdown",
   "metadata": {},
   "source": [
    "For each algorithm I will apply the same steps: Select parameters for gridsearch and perform the fine-tuning training of the gridseach on the k_fold wich was created above, then saving the best estimator in a classifier and showing the f1_scores (the data is unbalanced so f1_score seems more reasonable metric. Since we're talking about credit defaults and banks will be keen to be accurate on the people who are likely to defaul (1 in our dataset - dflt_pmt column) I'm going to take a look at the Recall later in the classificaition reports. During my course I got used to that \"format\" which I find useful and really easy to understand by a quick glance."
   ]
  },
  {
   "cell_type": "markdown",
   "metadata": {},
   "source": [
    "After each training I will copy in \"Markdown\" the results of the training because the training will not be performed when this notebooks is being reviewed. Will be using Pickle for the already trained algorithms."
   ]
  },
  {
   "cell_type": "markdown",
   "metadata": {},
   "source": [
    "Furthermore I see more logincal and easier when comparing results/classification reports etc to compare all the algorithms together, hence I will do it at once after all algorithms have been optimized/trained."
   ]
  },
  {
   "cell_type": "markdown",
   "metadata": {},
   "source": [
    "### 4.1 Decision Tree"
   ]
  },
  {
   "cell_type": "markdown",
   "metadata": {},
   "source": [
    "Let's try to optimize a decision tree for this classification via GridSearchCV."
   ]
  },
  {
   "cell_type": "code",
   "execution_count": 45,
   "metadata": {},
   "outputs": [
    {
     "name": "stdout",
     "output_type": "stream",
     "text": [
      "Wall time: 1min 44s\n",
      "Decision tree; best score: 0.47120944998220704\n",
      "{'max_depth': 15, 'max_leaf_nodes': 30, 'min_samples_leaf': 2}\n"
     ]
    }
   ],
   "source": [
    "#params = {\n",
    "#    \"max_depth\": [5, 7, 15, 20, 30],\n",
    "#    \"min_samples_leaf\": [2, 5, 10, 15, 20, 30],\n",
    "#    \"max_leaf_nodes\": [10, 20, 30]\n",
    "#}\n",
    "#\n",
    "#grid_search = GridSearchCV(DecisionTreeClassifier(), params, scoring = \"f1\",\n",
    "#                          cv = k_fold)\n",
    "#%time grid_search.fit(default_attributes_train, default_labels_train)\n",
    "#\n",
    "#tree_classifier = grid_search.best_estimator_\n",
    "#\n",
    "#print(\"Decision tree; best score:\", grid_search.best_score_)\n",
    "#print(grid_search.best_params_)"
   ]
  },
  {
   "cell_type": "markdown",
   "metadata": {},
   "source": [
    "Wall time: 1min 44s\n",
    "Decision tree; best score: 0.47120944998220704\n",
    "{'max_depth': 15, 'max_leaf_nodes': 30, 'min_samples_leaf': 2}"
   ]
  },
  {
   "cell_type": "markdown",
   "metadata": {},
   "source": [
    "Since we're at the boundaries for min_samples_leaf and max_leaf_nodes let's try to amend the parameters and check if we're going to increase the score."
   ]
  },
  {
   "cell_type": "code",
   "execution_count": 46,
   "metadata": {},
   "outputs": [
    {
     "name": "stdout",
     "output_type": "stream",
     "text": [
      "Wall time: 16.4 s\n",
      "Decision tree; best score: 0.4732503213667491\n",
      "{'max_depth': 15, 'max_leaf_nodes': 30, 'min_samples_leaf': 2}\n"
     ]
    }
   ],
   "source": [
    "#params = {\n",
    "#    \"max_depth\": [15],\n",
    "#    \"max_leaf_nodes\": [30, 40, 50],\n",
    "#    \"min_samples_leaf\": [1, 2]\n",
    "#    \n",
    "#}\n",
    "#\n",
    "#grid_search = GridSearchCV(DecisionTreeClassifier(), params, scoring = \"f1\",\n",
    "#                          cv = k_fold)\n",
    "#%time grid_search.fit(default_attributes_train, default_labels_train)\n",
    "#\n",
    "#tree_classifier = grid_search.best_estimator_\n",
    "#\n",
    "#print(\"Decision tree; best score:\", grid_search.best_score_)\n",
    "#print(grid_search.best_params_)"
   ]
  },
  {
   "cell_type": "markdown",
   "metadata": {},
   "source": [
    "Wall time: 16.4 s\n",
    "Decision tree; best score: 0.4732503213667491\n",
    "{'max_depth': 15, 'max_leaf_nodes': 30, 'min_samples_leaf': 2}"
   ]
  },
  {
   "cell_type": "markdown",
   "metadata": {},
   "source": [
    "The score seems low, but that's due to the imbalance in the data."
   ]
  },
  {
   "cell_type": "code",
   "execution_count": 47,
   "metadata": {},
   "outputs": [],
   "source": [
    "#Save the trained model.\n",
    "#pickle.dump(tree_classifier, open(\"tree_classifier.p\", 'wb'))"
   ]
  },
  {
   "cell_type": "markdown",
   "metadata": {},
   "source": [
    "### 4.2 RandomForest"
   ]
  },
  {
   "cell_type": "code",
   "execution_count": 48,
   "metadata": {},
   "outputs": [
    {
     "name": "stdout",
     "output_type": "stream",
     "text": [
      "Wall time: 9min 39s\n",
      "The best score for Random forest:  0.47057004106602\n",
      "{'max_depth': 150, 'n_estimators': 300}\n"
     ]
    }
   ],
   "source": [
    "#params = {\n",
    "#    \"n_estimators\": [50, 100, 200, 300],\n",
    "#    \"max_depth\": [20, 50, 100, 150]\n",
    "#}\n",
    "#\n",
    "#grid_search = GridSearchCV(RandomForestClassifier(), params, scoring = \"f1\",\n",
    "#                          cv = k_fold)\n",
    "#%time grid_search.fit(default_attributes_train, default_labels_train)\n",
    "#\n",
    "#forest_classifier = grid_search.best_estimator_\n",
    "#\n",
    "#print(\"The best score for Random forest: \", grid_search.best_score_)\n",
    "#print(grid_search.best_params_)"
   ]
  },
  {
   "cell_type": "markdown",
   "metadata": {},
   "source": [
    "Wall time: 9min 39s\n",
    "The best score for Random forest:  0.47057004106602\n",
    "{'max_depth': 150, 'n_estimators': 300}"
   ]
  },
  {
   "cell_type": "code",
   "execution_count": 49,
   "metadata": {},
   "outputs": [
    {
     "name": "stdout",
     "output_type": "stream",
     "text": [
      "Wall time: 7min 53s\n",
      "The best score for Random forest:  0.47003495111277055\n",
      "{'max_depth': 100, 'n_estimators': 400}\n"
     ]
    }
   ],
   "source": [
    "#params = {\n",
    "#    \"n_estimators\": [300, 400],\n",
    "#    \"max_depth\": [20, 50, 100]\n",
    "#}\n",
    "#\n",
    "#grid_search = GridSearchCV(RandomForestClassifier(), params, scoring = \"f1\",\n",
    "#                          cv = k_fold)\n",
    "#%time grid_search.fit(default_attributes_train, default_labels_train)\n",
    "#\n",
    "#forest_classifier = grid_search.best_estimator_\n",
    "#\n",
    "#print(\"The best score for Random forest: \", grid_search.best_score_)\n",
    "#print(grid_search.best_params_)"
   ]
  },
  {
   "cell_type": "markdown",
   "metadata": {},
   "source": [
    "Wall time: 7min 53s\n",
    "The best score for Random forest:  0.47003495111277055\n",
    "{'max_depth': 100, 'n_estimators': 400}"
   ]
  },
  {
   "cell_type": "markdown",
   "metadata": {},
   "source": [
    "Here I've probably should've increase max_depth, but since there's a tendency for the plants (trees, forests) to overfit and since this is exactly what happened when expecting the classification reports below I\"m going to leave it as is. The score seems low, but that's due to the imbalance in the data."
   ]
  },
  {
   "cell_type": "code",
   "execution_count": 50,
   "metadata": {},
   "outputs": [],
   "source": [
    "#Save the trained model.\n",
    "#pickle.dump(forest_classifier, open(\"forest_classifier.p\", 'wb'))"
   ]
  },
  {
   "cell_type": "markdown",
   "metadata": {},
   "source": [
    "### 4.3 Linear SVM"
   ]
  },
  {
   "cell_type": "code",
   "execution_count": 51,
   "metadata": {},
   "outputs": [
    {
     "name": "stdout",
     "output_type": "stream",
     "text": [
      "Wall time: 50.9 s\n",
      "The best score for Linear SVM:  0.468170834232026\n",
      "{'C': 1.5}\n"
     ]
    }
   ],
   "source": [
    "#params = {\n",
    "#    \"C\": [1, 6, 10, 15, 20]\n",
    "#}\n",
    "#\n",
    "grid_search = GridSearchCV(LinearSVC(dual = False), params, scoring = \"f1\",\n",
    "#                          cv = k_fold)\n",
    "#%time grid_search.fit(default_attributes_train, default_labels_train)\n",
    "#\n",
    "#linear_SVM_classifier = grid_search.best_estimator_\n",
    "#\n",
    "#print(\"The best score for Linear SVM: \", grid_search.best_score_)\n",
    "#print(grid_search.best_params_)"
   ]
  },
  {
   "cell_type": "markdown",
   "metadata": {},
   "source": [
    "Wall time: 50.9 s\n",
    "The best score for Linear SVM:  0.468170834232026\n",
    "{'C': 1.5}"
   ]
  },
  {
   "cell_type": "markdown",
   "metadata": {},
   "source": [
    "We got it the first time, so no more actions required at this time. The score seems low, but that's due to the imbalance in the data."
   ]
  },
  {
   "cell_type": "code",
   "execution_count": 52,
   "metadata": {},
   "outputs": [],
   "source": [
    "#Save the trained model.\n",
    "#pickle.dump(linear_SVM_classifier, open(\"linear_SVM_classifier.p\", 'wb'))"
   ]
  },
  {
   "cell_type": "markdown",
   "metadata": {},
   "source": [
    "### 4.4 Gaussian SVM"
   ]
  },
  {
   "cell_type": "code",
   "execution_count": 53,
   "metadata": {},
   "outputs": [
    {
     "data": {
      "text/plain": [
       "PCA(copy=True, iterated_power='auto', n_components=0.95, random_state=None,\n",
       "  svd_solver='auto', tol=0.0, whiten=False)"
      ]
     },
     "execution_count": 53,
     "metadata": {},
     "output_type": "execute_result"
    }
   ],
   "source": [
    "#Let's do PCA on default_attributes_train and let those for the Gaussian SVC.\n",
    "pca = PCA(n_components = 0.95)\n",
    "pca.fit(default_attributes_train)"
   ]
  },
  {
   "cell_type": "code",
   "execution_count": 54,
   "metadata": {},
   "outputs": [],
   "source": [
    "default_attributes_PCA = pca.transform(default_attributes_train)"
   ]
  },
  {
   "cell_type": "code",
   "execution_count": 55,
   "metadata": {},
   "outputs": [
    {
     "data": {
      "text/plain": [
       "array([0.21732311, 0.09757899, 0.09048988, 0.08149911, 0.07012104,\n",
       "       0.05779632, 0.03609845, 0.03315875, 0.02205546, 0.01931635,\n",
       "       0.01602857, 0.01349805, 0.01127341, 0.01058397, 0.00887256,\n",
       "       0.00851261, 0.00820108, 0.00794999, 0.00780732, 0.00761162,\n",
       "       0.0073838 , 0.00700806, 0.00688784, 0.00663444, 0.00658673,\n",
       "       0.006547  , 0.00640169, 0.00622555, 0.00618705, 0.0058703 ,\n",
       "       0.00551774, 0.00545383, 0.00530198, 0.00512789, 0.00488489,\n",
       "       0.00474827, 0.00443545, 0.00405987, 0.0038817 , 0.00364624,\n",
       "       0.00356057, 0.00347467, 0.00326825, 0.00318723])"
      ]
     },
     "execution_count": 55,
     "metadata": {},
     "output_type": "execute_result"
    }
   ],
   "source": [
    "pca.explained_variance_ratio_"
   ]
  },
  {
   "cell_type": "code",
   "execution_count": 56,
   "metadata": {},
   "outputs": [],
   "source": [
    "#params = {\n",
    "#    \"C\": [1, 10, 15, 30, 60, 100],\n",
    "#    \"gamma\": [0.001, 0.01, 0.1, 0.2]\n",
    "#}\n",
    "#\n",
    "#grid_search = GridSearchCV(SVC(), params, scoring = \"f1\",\n",
    "#                          cv = k_fold)\n",
    "#grid_search.fit(default_attributes_PCA, default_labels_train)\n",
    "#\n",
    "#gaussian_SVM_classifier = grid_search.best_estimator_\n",
    "#\n",
    "#print(\"The best score for Gaussian SVM: \", grid_search.best_score_)\n",
    "#print(grid_search.best_params_)"
   ]
  },
  {
   "cell_type": "markdown",
   "metadata": {},
   "source": [
    "I find the Gaussian SVM pretty unpractical. Even after dimensionality reduction with PCA the fit seems to take a lot of time (let it run for at least an hour x several times). Since time is of the essence and I'm concerned with getting my machine in smoke if I put the \"n_jobs = -1\" as suggested for speeding the process up I will just try to see if there are other algorithms which will have better scores. Besides the linear SVM has pretty decent score."
   ]
  },
  {
   "cell_type": "markdown",
   "metadata": {},
   "source": [
    "![SmokeUrl](https://indivisibletacoma.net/wp-content/uploads/2019/03/Technical-Difficulties-GIF.gif \"Smoke\")"
   ]
  },
  {
   "cell_type": "markdown",
   "metadata": {},
   "source": [
    "### 4.5 Adaboost"
   ]
  },
  {
   "cell_type": "code",
   "execution_count": 57,
   "metadata": {},
   "outputs": [
    {
     "name": "stdout",
     "output_type": "stream",
     "text": [
      "Wall time: 5min 48s\n",
      "AdaBoostClassifier(algorithm='SAMME.R',\n",
      "          base_estimator=DecisionTreeClassifier(class_weight=None, criterion='gini', max_depth=1,\n",
      "            max_features=None, max_leaf_nodes=None,\n",
      "            min_impurity_decrease=0.0, min_impurity_split=None,\n",
      "            min_samples_leaf=1, min_samples_split=2,\n",
      "            min_weight_fraction_leaf=0.0, presort=False, random_state=None,\n",
      "            splitter='best'),\n",
      "          learning_rate=1.0, n_estimators=400, random_state=None)\n",
      "0.4541785754081107\n"
     ]
    }
   ],
   "source": [
    "#param_grid = {\n",
    "#    \"n_estimators\": [300, 400],\n",
    "#    \"learning_rate\" : [0.1, 1.0, 10]\n",
    "#}\n",
    "#\n",
    "#grid_search = GridSearchCV(AdaBoostClassifier(DecisionTreeClassifier(max_depth = 1)), \n",
    "#                        param_grid, scoring = \"f1\", cv=k_fold)\n",
    "#%time grid_search = grid_search.fit(default_attributes_train, default_labels_train)\n",
    "#\n",
    "#adaboost_classifier = grid_search.best_estimator_\n",
    "#\n",
    "#print(grid_search.best_estimator_)\n",
    "#print(grid_search.best_score_)"
   ]
  },
  {
   "cell_type": "markdown",
   "metadata": {},
   "source": [
    "Wall time: 5min 48s\n",
    "AdaBoostClassifier(algorithm='SAMME.R',\n",
    "          base_estimator=DecisionTreeClassifier(class_weight=None, criterion='gini', max_depth=1,\n",
    "            max_features=None, max_leaf_nodes=None,\n",
    "            min_impurity_decrease=0.0, min_impurity_split=None,\n",
    "            min_samples_leaf=1, min_samples_split=2,\n",
    "            min_weight_fraction_leaf=0.0, presort=False, random_state=None,\n",
    "            splitter='best'),\n",
    "          learning_rate=1.0, n_estimators=400, random_state=None)\n",
    "0.4541785754081107"
   ]
  },
  {
   "cell_type": "code",
   "execution_count": 80,
   "metadata": {},
   "outputs": [
    {
     "name": "stdout",
     "output_type": "stream",
     "text": [
      "Wall time: 4min 20s\n",
      "The best score for tuned Adaboost:  0.4572153888625712\n",
      "{'learning_rate': 1.0, 'n_estimators': 500}\n"
     ]
    }
   ],
   "source": [
    "#param_grid = {\n",
    "#    \"n_estimators\": [400, 500],\n",
    "#    \"learning_rate\" : [1.0, 10]\n",
    "#}\n",
    "#\n",
    "#grid_search = GridSearchCV(AdaBoostClassifier(DecisionTreeClassifier(max_depth = 1)), \n",
    "#                        param_grid, scoring = \"f1\", cv=k_fold)\n",
    "#%time grid_search = grid_search.fit(default_attributes_train, default_labels_train)\n",
    "#\n",
    "#ada_tuned = grid_search.best_estimator_\n",
    "#\n",
    "#print(\"The best score for tuned Adaboost: \", grid_search.best_score_)\n",
    "#print(grid_search.best_params_)"
   ]
  },
  {
   "cell_type": "markdown",
   "metadata": {},
   "source": [
    "Wall time: 4min 20s\n",
    "The best score for tuned Adaboost:  0.4572153888625712\n",
    "{'learning_rate': 1.0, 'n_estimators': 500}"
   ]
  },
  {
   "cell_type": "markdown",
   "metadata": {},
   "source": [
    "Lower scores than the other algorithms there's still room for improvement on the n_estimators front will explore this if I have more time at the end."
   ]
  },
  {
   "cell_type": "code",
   "execution_count": 81,
   "metadata": {},
   "outputs": [],
   "source": [
    "#Save the trained model.\n",
    "#pickle.dump(ada_tuned, open(\"ada_tuned.p\", 'wb'))"
   ]
  },
  {
   "cell_type": "markdown",
   "metadata": {},
   "source": [
    "### 4.6 Testing results"
   ]
  },
  {
   "cell_type": "code",
   "execution_count": 60,
   "metadata": {},
   "outputs": [],
   "source": [
    "tree_classifier_loaded = pickle.load(open(\"tree_classifier.p\", \"rb\"))\n",
    "forest_classifier_loaded = pickle.load(open(\"forest_classifier.p\", \"rb\"))\n",
    "linear_SVM_classifier_loaded = pickle.load(open(\"linear_SVM_classifier.p\", \"rb\"))\n",
    "ada_tuned_loaded = pickle.load(open(\"ada_tuned.p\", \"rb\"))"
   ]
  },
  {
   "cell_type": "code",
   "execution_count": 177,
   "metadata": {},
   "outputs": [
    {
     "name": "stdout",
     "output_type": "stream",
     "text": [
      "Testing results:\n",
      "Decision tree: 0.4754571703561117\n",
      "Random forest: 0.471967057332911\n",
      "Linear SVM: 0.4639107611548557\n",
      "AdaBoost : 0.4540039708802118\n"
     ]
    }
   ],
   "source": [
    "tree_classifier_score = f1_score(default_labels_test, tree_classifier_loaded.predict(default_attributes_test))\n",
    "forest_classifier_score = f1_score(default_labels_test, forest_classifier_loaded.predict(default_attributes_test))\n",
    "linear_svm_classifier_score = f1_score(default_labels_test, linear_SVM_classifier_loaded.predict(default_attributes_test))\n",
    "ada_tuned_score = f1_score(default_labels_test, ada_tuned_loaded.predict(default_attributes_test))\n",
    "\n",
    "print(\"Testing results:\")\n",
    "print(\"Decision tree:\", tree_classifier_score)\n",
    "print(\"Random forest:\", forest_classifier_score)\n",
    "print(\"Linear SVM:\", linear_svm_classifier_score)\n",
    "print(\"AdaBoost :\", ada_tuned_score)"
   ]
  },
  {
   "cell_type": "markdown",
   "metadata": {},
   "source": [
    "Decision trees have the highest f1_score, buts since I've mentioned that we're interested in the defaulting people let's check how is the Recall under each algorithm."
   ]
  },
  {
   "cell_type": "code",
   "execution_count": 179,
   "metadata": {},
   "outputs": [
    {
     "name": "stdout",
     "output_type": "stream",
     "text": [
      "Decision tree\n",
      "              precision    recall  f1-score   support\n",
      "\n",
      "           0       0.84      0.95      0.89     16355\n",
      "           1       0.68      0.38      0.49      4645\n",
      "\n",
      "   micro avg       0.82      0.82      0.82     21000\n",
      "   macro avg       0.76      0.66      0.69     21000\n",
      "weighted avg       0.81      0.82      0.80     21000\n",
      "\n",
      "              precision    recall  f1-score   support\n",
      "\n",
      "           0       0.84      0.95      0.89      7009\n",
      "           1       0.66      0.37      0.48      1991\n",
      "\n",
      "   micro avg       0.82      0.82      0.82      9000\n",
      "   macro avg       0.75      0.66      0.68      9000\n",
      "weighted avg       0.80      0.82      0.80      9000\n",
      "\n"
     ]
    }
   ],
   "source": [
    "print(\"Decision tree\")\n",
    "print(classification_report(default_labels_train, tree_classifier_loaded.predict(default_attributes_train)))\n",
    "print(classification_report(default_labels_test, tree_classifier_loaded.predict(default_attributes_test)))"
   ]
  },
  {
   "cell_type": "code",
   "execution_count": 180,
   "metadata": {},
   "outputs": [
    {
     "name": "stdout",
     "output_type": "stream",
     "text": [
      "Random forest\n",
      "              precision    recall  f1-score   support\n",
      "\n",
      "           0       1.00      1.00      1.00     16355\n",
      "           1       1.00      1.00      1.00      4645\n",
      "\n",
      "   micro avg       1.00      1.00      1.00     21000\n",
      "   macro avg       1.00      1.00      1.00     21000\n",
      "weighted avg       1.00      1.00      1.00     21000\n",
      "\n",
      "              precision    recall  f1-score   support\n",
      "\n",
      "           0       0.84      0.94      0.89      7009\n",
      "           1       0.64      0.37      0.47      1991\n",
      "\n",
      "   micro avg       0.81      0.81      0.81      9000\n",
      "   macro avg       0.74      0.66      0.68      9000\n",
      "weighted avg       0.80      0.81      0.80      9000\n",
      "\n"
     ]
    }
   ],
   "source": [
    "print(\"Random forest\")\n",
    "print(classification_report(default_labels_train, forest_classifier_loaded.predict(default_attributes_train)))\n",
    "print(classification_report(default_labels_test, forest_classifier_loaded.predict(default_attributes_test)))"
   ]
  },
  {
   "cell_type": "code",
   "execution_count": 181,
   "metadata": {},
   "outputs": [
    {
     "name": "stdout",
     "output_type": "stream",
     "text": [
      "Linear SVM\n",
      "              precision    recall  f1-score   support\n",
      "\n",
      "           0       0.84      0.95      0.89     16355\n",
      "           1       0.69      0.36      0.47      4645\n",
      "\n",
      "   micro avg       0.82      0.82      0.82     21000\n",
      "   macro avg       0.76      0.66      0.68     21000\n",
      "weighted avg       0.81      0.82      0.80     21000\n",
      "\n",
      "              precision    recall  f1-score   support\n",
      "\n",
      "           0       0.84      0.95      0.89      7009\n",
      "           1       0.67      0.36      0.46      1991\n",
      "\n",
      "   micro avg       0.82      0.82      0.82      9000\n",
      "   macro avg       0.75      0.65      0.68      9000\n",
      "weighted avg       0.80      0.82      0.80      9000\n",
      "\n"
     ]
    }
   ],
   "source": [
    "print(\"Linear SVM\")\n",
    "print(classification_report(default_labels_train, linear_SVM_classifier_loaded.predict(default_attributes_train)))\n",
    "print(classification_report(default_labels_test, linear_SVM_classifier_loaded.predict(default_attributes_test)))"
   ]
  },
  {
   "cell_type": "code",
   "execution_count": 182,
   "metadata": {},
   "outputs": [
    {
     "name": "stdout",
     "output_type": "stream",
     "text": [
      "Adaboost\n",
      "              precision    recall  f1-score   support\n",
      "\n",
      "           0       0.84      0.96      0.89     16355\n",
      "           1       0.69      0.36      0.47      4645\n",
      "\n",
      "   micro avg       0.82      0.82      0.82     21000\n",
      "   macro avg       0.77      0.66      0.68     21000\n",
      "weighted avg       0.81      0.82      0.80     21000\n",
      "\n",
      "              precision    recall  f1-score   support\n",
      "\n",
      "           0       0.84      0.95      0.89      7009\n",
      "           1       0.67      0.34      0.45      1991\n",
      "\n",
      "   micro avg       0.82      0.82      0.82      9000\n",
      "   macro avg       0.75      0.65      0.67      9000\n",
      "weighted avg       0.80      0.82      0.79      9000\n",
      "\n"
     ]
    }
   ],
   "source": [
    "print(\"Adaboost\")\n",
    "print(classification_report(default_labels_train, ada_tuned_loaded.predict(default_attributes_train)))\n",
    "print(classification_report(default_labels_test, ada_tuned_loaded.predict(default_attributes_test)))"
   ]
  },
  {
   "cell_type": "markdown",
   "metadata": {},
   "source": [
    "In our case of predicting if a loan would be default — It would be better to have a high Recall as the banks don’t want to lose money and would be a good idea to alarm the bank even if there is a slight doubt about defaulter. \n",
    "Low precision in this case might be okay"
   ]
  },
  {
   "cell_type": "markdown",
   "metadata": {},
   "source": [
    "So what I'm going to do next is take the decision trees as the best scoring (and fastest) algorithm and try to improve it."
   ]
  },
  {
   "cell_type": "markdown",
   "metadata": {},
   "source": [
    "### 4.7 Further algorith improvement"
   ]
  },
  {
   "cell_type": "markdown",
   "metadata": {},
   "source": [
    "It's good we kept a back-up of the dataframe - \"bk_up\". Now we're going to oversample it since the cases of the default in our initial dataset are imbalanced so not much to train on => hence our lower Recall scores."
   ]
  },
  {
   "cell_type": "code",
   "execution_count": 131,
   "metadata": {},
   "outputs": [],
   "source": [
    "bk_up_os = pd.get_dummies(bk_up, columns = [\"sex\",\"education\",\"marriage\",\"age\",\"pay_1\", \"pay_2\", \"pay_3\", \"pay_4\", \"pay_5\"])"
   ]
  },
  {
   "cell_type": "markdown",
   "metadata": {},
   "source": [
    "Decision trees can handle categorical features, however since I plan to score this algorithm on the original data and let's keep the dimentions the same."
   ]
  },
  {
   "cell_type": "code",
   "execution_count": 132,
   "metadata": {},
   "outputs": [],
   "source": [
    "class_0_counted, class_1_counted = bk_up_os.dflt_pmt.value_counts()\n",
    "bk_class_0 = bk_up_os[bk_up_os['dflt_pmt'] == 0]\n",
    "bk_class_1 = bk_up_os[bk_up_os['dflt_pmt'] == 1]\n",
    "\n",
    "overs_class_1 = bk_class_1.sample(class_0_counted, replace = True)\n",
    "\n",
    "oversampled_df = pd.concat([bk_class_0, overs_class_1], axis = 0)"
   ]
  },
  {
   "cell_type": "code",
   "execution_count": 183,
   "metadata": {},
   "outputs": [
    {
     "name": "stdout",
     "output_type": "stream",
     "text": [
      "1    23364\n",
      "0    23364\n",
      "Name: dflt_pmt, dtype: int64\n"
     ]
    }
   ],
   "source": [
    "#Check the oversampled distribution.\n",
    "print(oversampled_df.dflt_pmt.value_counts())"
   ]
  },
  {
   "cell_type": "code",
   "execution_count": 134,
   "metadata": {},
   "outputs": [
    {
     "data": {
      "text/plain": [
       "(46728, 134)"
      ]
     },
     "execution_count": 134,
     "metadata": {},
     "output_type": "execute_result"
    }
   ],
   "source": [
    "#Let's check the shape of the oversampled dataset. Then I'm going to repeat all the steps under point 3 for the data preprocessing.\n",
    "oversampled_df.shape"
   ]
  },
  {
   "cell_type": "code",
   "execution_count": 184,
   "metadata": {},
   "outputs": [],
   "source": [
    "#Divide into attributes and labels.\n",
    "oversampled_df_attributes = oversampled_df.drop(\"dflt_pmt\", axis = 1)\n",
    "oversampled_df_labels = oversampled_df[\"dflt_pmt\"]"
   ]
  },
  {
   "cell_type": "code",
   "execution_count": 185,
   "metadata": {},
   "outputs": [
    {
     "name": "stderr",
     "output_type": "stream",
     "text": [
      "C:\\Users\\Hegemony\\Anaconda3\\lib\\site-packages\\sklearn\\preprocessing\\data.py:334: DataConversionWarning: Data with input dtype uint8, int64, float64 were all converted to float64 by MinMaxScaler.\n",
      "  return self.partial_fit(X, y)\n"
     ]
    }
   ],
   "source": [
    "#Scale and keep the column names when using Minmaxscaler.\n",
    "oversampled_df_attributes = pd.DataFrame(scaler.fit_transform(oversampled_df_attributes), index=oversampled_df_attributes.index, columns=oversampled_df_attributes.columns)"
   ]
  },
  {
   "cell_type": "code",
   "execution_count": 137,
   "metadata": {},
   "outputs": [
    {
     "data": {
      "text/html": [
       "<div>\n",
       "<style scoped>\n",
       "    .dataframe tbody tr th:only-of-type {\n",
       "        vertical-align: middle;\n",
       "    }\n",
       "\n",
       "    .dataframe tbody tr th {\n",
       "        vertical-align: top;\n",
       "    }\n",
       "\n",
       "    .dataframe thead th {\n",
       "        text-align: right;\n",
       "    }\n",
       "</style>\n",
       "<table border=\"1\" class=\"dataframe\">\n",
       "  <thead>\n",
       "    <tr style=\"text-align: right;\">\n",
       "      <th></th>\n",
       "      <th>limit_bal</th>\n",
       "      <th>pay_6</th>\n",
       "      <th>bill_amt1</th>\n",
       "      <th>bill_amt2</th>\n",
       "      <th>bill_amt3</th>\n",
       "      <th>bill_amt4</th>\n",
       "      <th>bill_amt5</th>\n",
       "      <th>bill_amt6</th>\n",
       "      <th>pay_amt1</th>\n",
       "      <th>pay_amt2</th>\n",
       "      <th>...</th>\n",
       "      <th>pay_5_-2</th>\n",
       "      <th>pay_5_-1</th>\n",
       "      <th>pay_5_0</th>\n",
       "      <th>pay_5_2</th>\n",
       "      <th>pay_5_3</th>\n",
       "      <th>pay_5_4</th>\n",
       "      <th>pay_5_5</th>\n",
       "      <th>pay_5_6</th>\n",
       "      <th>pay_5_7</th>\n",
       "      <th>pay_5_8</th>\n",
       "    </tr>\n",
       "    <tr>\n",
       "      <th>ID</th>\n",
       "      <th></th>\n",
       "      <th></th>\n",
       "      <th></th>\n",
       "      <th></th>\n",
       "      <th></th>\n",
       "      <th></th>\n",
       "      <th></th>\n",
       "      <th></th>\n",
       "      <th></th>\n",
       "      <th></th>\n",
       "      <th></th>\n",
       "      <th></th>\n",
       "      <th></th>\n",
       "      <th></th>\n",
       "      <th></th>\n",
       "      <th></th>\n",
       "      <th></th>\n",
       "      <th></th>\n",
       "      <th></th>\n",
       "      <th></th>\n",
       "      <th></th>\n",
       "    </tr>\n",
       "  </thead>\n",
       "  <tbody>\n",
       "    <tr>\n",
       "      <th>3</th>\n",
       "      <td>0.080808</td>\n",
       "      <td>0.2</td>\n",
       "      <td>0.172392</td>\n",
       "      <td>0.079532</td>\n",
       "      <td>0.093789</td>\n",
       "      <td>0.173637</td>\n",
       "      <td>0.095470</td>\n",
       "      <td>0.272928</td>\n",
       "      <td>0.001738</td>\n",
       "      <td>0.000891</td>\n",
       "      <td>...</td>\n",
       "      <td>0.0</td>\n",
       "      <td>0.0</td>\n",
       "      <td>1.0</td>\n",
       "      <td>0.0</td>\n",
       "      <td>0.0</td>\n",
       "      <td>0.0</td>\n",
       "      <td>0.0</td>\n",
       "      <td>0.0</td>\n",
       "      <td>0.0</td>\n",
       "      <td>0.0</td>\n",
       "    </tr>\n",
       "    <tr>\n",
       "      <th>4</th>\n",
       "      <td>0.040404</td>\n",
       "      <td>0.2</td>\n",
       "      <td>0.188100</td>\n",
       "      <td>0.111995</td>\n",
       "      <td>0.113407</td>\n",
       "      <td>0.186809</td>\n",
       "      <td>0.109363</td>\n",
       "      <td>0.283685</td>\n",
       "      <td>0.002290</td>\n",
       "      <td>0.001199</td>\n",
       "      <td>...</td>\n",
       "      <td>0.0</td>\n",
       "      <td>0.0</td>\n",
       "      <td>1.0</td>\n",
       "      <td>0.0</td>\n",
       "      <td>0.0</td>\n",
       "      <td>0.0</td>\n",
       "      <td>0.0</td>\n",
       "      <td>0.0</td>\n",
       "      <td>0.0</td>\n",
       "      <td>0.0</td>\n",
       "    </tr>\n",
       "    <tr>\n",
       "      <th>5</th>\n",
       "      <td>0.040404</td>\n",
       "      <td>0.2</td>\n",
       "      <td>0.154144</td>\n",
       "      <td>0.071601</td>\n",
       "      <td>0.106020</td>\n",
       "      <td>0.179863</td>\n",
       "      <td>0.099633</td>\n",
       "      <td>0.275681</td>\n",
       "      <td>0.002290</td>\n",
       "      <td>0.021779</td>\n",
       "      <td>...</td>\n",
       "      <td>0.0</td>\n",
       "      <td>0.0</td>\n",
       "      <td>1.0</td>\n",
       "      <td>0.0</td>\n",
       "      <td>0.0</td>\n",
       "      <td>0.0</td>\n",
       "      <td>0.0</td>\n",
       "      <td>0.0</td>\n",
       "      <td>0.0</td>\n",
       "      <td>0.0</td>\n",
       "    </tr>\n",
       "    <tr>\n",
       "      <th>6</th>\n",
       "      <td>0.040404</td>\n",
       "      <td>0.2</td>\n",
       "      <td>0.203506</td>\n",
       "      <td>0.120381</td>\n",
       "      <td>0.117974</td>\n",
       "      <td>0.178407</td>\n",
       "      <td>0.100102</td>\n",
       "      <td>0.276367</td>\n",
       "      <td>0.002862</td>\n",
       "      <td>0.001078</td>\n",
       "      <td>...</td>\n",
       "      <td>0.0</td>\n",
       "      <td>0.0</td>\n",
       "      <td>1.0</td>\n",
       "      <td>0.0</td>\n",
       "      <td>0.0</td>\n",
       "      <td>0.0</td>\n",
       "      <td>0.0</td>\n",
       "      <td>0.0</td>\n",
       "      <td>0.0</td>\n",
       "      <td>0.0</td>\n",
       "    </tr>\n",
       "    <tr>\n",
       "      <th>7</th>\n",
       "      <td>0.494949</td>\n",
       "      <td>0.2</td>\n",
       "      <td>0.472126</td>\n",
       "      <td>0.457242</td>\n",
       "      <td>0.330672</td>\n",
       "      <td>0.671310</td>\n",
       "      <td>0.559578</td>\n",
       "      <td>0.625196</td>\n",
       "      <td>0.062961</td>\n",
       "      <td>0.023749</td>\n",
       "      <td>...</td>\n",
       "      <td>0.0</td>\n",
       "      <td>0.0</td>\n",
       "      <td>1.0</td>\n",
       "      <td>0.0</td>\n",
       "      <td>0.0</td>\n",
       "      <td>0.0</td>\n",
       "      <td>0.0</td>\n",
       "      <td>0.0</td>\n",
       "      <td>0.0</td>\n",
       "      <td>0.0</td>\n",
       "    </tr>\n",
       "  </tbody>\n",
       "</table>\n",
       "<p>5 rows × 133 columns</p>\n",
       "</div>"
      ],
      "text/plain": [
       "    limit_bal  pay_6  bill_amt1  bill_amt2  bill_amt3  bill_amt4  bill_amt5  \\\n",
       "ID                                                                            \n",
       "3    0.080808    0.2   0.172392   0.079532   0.093789   0.173637   0.095470   \n",
       "4    0.040404    0.2   0.188100   0.111995   0.113407   0.186809   0.109363   \n",
       "5    0.040404    0.2   0.154144   0.071601   0.106020   0.179863   0.099633   \n",
       "6    0.040404    0.2   0.203506   0.120381   0.117974   0.178407   0.100102   \n",
       "7    0.494949    0.2   0.472126   0.457242   0.330672   0.671310   0.559578   \n",
       "\n",
       "    bill_amt6  pay_amt1  pay_amt2  ...  pay_5_-2  pay_5_-1  pay_5_0  pay_5_2  \\\n",
       "ID                                 ...                                         \n",
       "3    0.272928  0.001738  0.000891  ...       0.0       0.0      1.0      0.0   \n",
       "4    0.283685  0.002290  0.001199  ...       0.0       0.0      1.0      0.0   \n",
       "5    0.275681  0.002290  0.021779  ...       0.0       0.0      1.0      0.0   \n",
       "6    0.276367  0.002862  0.001078  ...       0.0       0.0      1.0      0.0   \n",
       "7    0.625196  0.062961  0.023749  ...       0.0       0.0      1.0      0.0   \n",
       "\n",
       "    pay_5_3  pay_5_4  pay_5_5  pay_5_6  pay_5_7  pay_5_8  \n",
       "ID                                                        \n",
       "3       0.0      0.0      0.0      0.0      0.0      0.0  \n",
       "4       0.0      0.0      0.0      0.0      0.0      0.0  \n",
       "5       0.0      0.0      0.0      0.0      0.0      0.0  \n",
       "6       0.0      0.0      0.0      0.0      0.0      0.0  \n",
       "7       0.0      0.0      0.0      0.0      0.0      0.0  \n",
       "\n",
       "[5 rows x 133 columns]"
      ]
     },
     "execution_count": 137,
     "metadata": {},
     "output_type": "execute_result"
    }
   ],
   "source": [
    "#Check what we did.\n",
    "oversampled_df_attributes.head()"
   ]
  },
  {
   "cell_type": "code",
   "execution_count": 186,
   "metadata": {},
   "outputs": [
    {
     "name": "stderr",
     "output_type": "stream",
     "text": [
      "C:\\Users\\Hegemony\\Anaconda3\\lib\\site-packages\\sklearn\\model_selection\\_split.py:2179: FutureWarning: From version 0.21, test_size will always complement train_size unless both are specified.\n",
      "  FutureWarning)\n"
     ]
    }
   ],
   "source": [
    "#Split into train/test data.\n",
    "oversampled_df_attributes_train, oversampled_df_attributes_test, oversampled_df_labels_train, oversampled_df_labels_test = train_test_split(oversampled_df_attributes, \\\n",
    "                                oversampled_df_labels, train_size = 0.7, stratify = oversampled_df_labels)"
   ]
  },
  {
   "cell_type": "code",
   "execution_count": 187,
   "metadata": {},
   "outputs": [
    {
     "data": {
      "text/plain": [
       "dflt_pmt\n",
       "0    0.500015\n",
       "1    0.499985\n",
       "Name: dflt_pmt, dtype: float64"
      ]
     },
     "execution_count": 187,
     "metadata": {},
     "output_type": "execute_result"
    }
   ],
   "source": [
    "#A quick check if the stratification in train_test_split a few rows above is ok.\n",
    "pd.Series(oversampled_df_labels_train).groupby(oversampled_df_labels_train).size() / len(oversampled_df_labels_train)"
   ]
  },
  {
   "cell_type": "code",
   "execution_count": 188,
   "metadata": {},
   "outputs": [],
   "source": [
    "#Create new k_fold for the oversampled data.\n",
    "oversampled_k_fold = list(skf.split(oversampled_df_attributes_train, oversampled_df_labels_train))"
   ]
  },
  {
   "cell_type": "markdown",
   "metadata": {},
   "source": [
    "So now I plan to run gridsearchcv for decision trees and then apply some prunning to decrease the overfitting."
   ]
  },
  {
   "cell_type": "code",
   "execution_count": 151,
   "metadata": {
    "scrolled": true
   },
   "outputs": [
    {
     "name": "stdout",
     "output_type": "stream",
     "text": [
      "Wall time: 3min 21s\n",
      "Decision tree - oversampled; best score: 0.694214223916498\n",
      "{'max_depth': 15, 'max_leaf_nodes': 50, 'min_samples_leaf': 15}\n"
     ]
    }
   ],
   "source": [
    "#params = {\n",
    "#    \"max_depth\": [5, 7, 15, 20, 30],\n",
    "#    \"min_samples_leaf\": [2, 5, 10, 15, 20],\n",
    "#    \"max_leaf_nodes\": [20, 30, 40, 50]\n",
    "#}\n",
    "#\n",
    "#grid_search = GridSearchCV(DecisionTreeClassifier(), params, scoring = \"f1\",\n",
    "#                          cv = oversampled_k_fold)\n",
    "#%time grid_search.fit(oversampled_df_attributes_train, oversampled_df_labels_train)\n",
    "#\n",
    "#oversampled_tree_classifier = grid_search.best_estimator_\n",
    "#\n",
    "#print(\"Decision tree - oversampled; best score:\", grid_search.best_score_)\n",
    "#print(grid_search.best_params_)"
   ]
  },
  {
   "cell_type": "markdown",
   "metadata": {},
   "source": [
    "Wall time: 3min 21s\n",
    "Decision tree - oversampled; best score: 0.694214223916498\n",
    "{'max_depth': 15, 'max_leaf_nodes': 50, 'min_samples_leaf': 15}"
   ]
  },
  {
   "cell_type": "markdown",
   "metadata": {},
   "source": [
    "Let's try again with more max_leaf_nodes."
   ]
  },
  {
   "cell_type": "code",
   "execution_count": 163,
   "metadata": {},
   "outputs": [
    {
     "name": "stdout",
     "output_type": "stream",
     "text": [
      "Wall time: 15.2 s\n",
      "Decision tree - oversampled; best score: 0.7494342966795945\n",
      "{'max_depth': 20, 'max_leaf_nodes': 400, 'min_samples_leaf': 15}\n"
     ]
    }
   ],
   "source": [
    "#params = {\n",
    "#    \"max_depth\": [20],\n",
    "#    \"min_samples_leaf\": [15],\n",
    "#    \"max_leaf_nodes\": [50, 100, 200, 300, 400]\n",
    "#}\n",
    "#\n",
    "#grid_search = GridSearchCV(DecisionTreeClassifier(), params, scoring = \"f1\",\n",
    "#                          cv = oversampled_k_fold)\n",
    "#%time grid_search.fit(oversampled_df_attributes_train, oversampled_df_labels_train)\n",
    "#\n",
    "#oversampled_tree_classifier = grid_search.best_estimator_\n",
    "#\n",
    "#print(\"Decision tree - oversampled; best score:\", grid_search.best_score_)\n",
    "#print(grid_search.best_params_)"
   ]
  },
  {
   "cell_type": "markdown",
   "metadata": {},
   "source": [
    "Wall time: 15.2 s\n",
    "Decision tree - oversampled; best score: 0.7494342966795945\n",
    "{'max_depth': 20, 'max_leaf_nodes': 400, 'min_samples_leaf': 15}"
   ]
  },
  {
   "cell_type": "code",
   "execution_count": 170,
   "metadata": {},
   "outputs": [],
   "source": [
    "#Save the trained model.\n",
    "#pickle.dump(oversampled_tree_classifier, open(\"oversampled_tree_classifier.p\", 'wb'))"
   ]
  },
  {
   "cell_type": "code",
   "execution_count": 171,
   "metadata": {},
   "outputs": [],
   "source": [
    "oversampled_tree_classifier_loaded = pickle.load(open(\"oversampled_tree_classifier.p\", \"rb\"))"
   ]
  },
  {
   "cell_type": "code",
   "execution_count": 197,
   "metadata": {},
   "outputs": [
    {
     "name": "stdout",
     "output_type": "stream",
     "text": [
      "Tuned Decision Trees - Oversampled\n",
      "              precision    recall  f1-score   support\n",
      "\n",
      "           0       0.81      0.75      0.78     16355\n",
      "           1       0.76      0.83      0.79     16354\n",
      "\n",
      "   micro avg       0.79      0.79      0.79     32709\n",
      "   macro avg       0.79      0.79      0.79     32709\n",
      "weighted avg       0.79      0.79      0.79     32709\n",
      "\n",
      "              precision    recall  f1-score   support\n",
      "\n",
      "           0       0.81      0.74      0.77      7009\n",
      "           1       0.76      0.82      0.79      7010\n",
      "\n",
      "   micro avg       0.78      0.78      0.78     14019\n",
      "   macro avg       0.78      0.78      0.78     14019\n",
      "weighted avg       0.78      0.78      0.78     14019\n",
      "\n"
     ]
    }
   ],
   "source": [
    "print(\"Tuned Decision Trees - Oversampled\")\n",
    "print(classification_report(oversampled_df_labels_train, oversampled_tree_classifier_loaded.predict(oversampled_df_attributes_train)))\n",
    "print(classification_report(oversampled_df_labels_test, oversampled_tree_classifier_loaded.predict(oversampled_df_attributes_test)))"
   ]
  },
  {
   "cell_type": "code",
   "execution_count": 190,
   "metadata": {},
   "outputs": [
    {
     "name": "stdout",
     "output_type": "stream",
     "text": [
      "Tuned Decision Trees - original train/test data\n",
      "              precision    recall  f1-score   support\n",
      "\n",
      "           0       0.93      0.74      0.83     16355\n",
      "           1       0.47      0.79      0.59      4645\n",
      "\n",
      "   micro avg       0.76      0.76      0.76     21000\n",
      "   macro avg       0.70      0.77      0.71     21000\n",
      "weighted avg       0.83      0.76      0.77     21000\n",
      "\n",
      "              precision    recall  f1-score   support\n",
      "\n",
      "           0       0.93      0.74      0.83      7009\n",
      "           1       0.47      0.80      0.59      1991\n",
      "\n",
      "   micro avg       0.76      0.76      0.76      9000\n",
      "   macro avg       0.70      0.77      0.71      9000\n",
      "weighted avg       0.83      0.76      0.78      9000\n",
      "\n"
     ]
    }
   ],
   "source": [
    "print(\"Tuned Decision Trees - original train/test data\")\n",
    "print(classification_report(default_labels_train, oversampled_tree_classifier_loaded.predict(default_attributes_train)))\n",
    "print(classification_report(default_labels_test, oversampled_tree_classifier_loaded.predict(default_attributes_test)))"
   ]
  },
  {
   "cell_type": "markdown",
   "metadata": {},
   "source": [
    "Once we've ovesamplified the results increased significantly on the new oversamplified training/test datasets and on the original. The increase is dramatic in the Recall metric which was the desired effect but the overall f1-score on the original training/test data has increased substantially."
   ]
  },
  {
   "cell_type": "markdown",
   "metadata": {},
   "source": [
    "### 5. Conclusion"
   ]
  },
  {
   "cell_type": "markdown",
   "metadata": {},
   "source": [
    "We've managed to train optimize several classification alrogirthms which we've then compared. Among them we've chosen the best scoring one and further optimized it by oversampling the data further parameter tuning.\n",
    "To answer our initial questions - yes, we can predict the default of a customer to a certain extent given the data which we had, but it can't be predicted with 100% since the data is not enough and the propensity of the lenders to avoid risk (more likely to concentrate on identifying potential defaulters than non-defaulters)."
   ]
  },
  {
   "cell_type": "markdown",
   "metadata": {},
   "source": [
    "### 6. References"
   ]
  },
  {
   "cell_type": "markdown",
   "metadata": {},
   "source": [
    "1. For Pickle - https://machinelearningmastery.com/save-load-machine-learning-models-python-scikit-learn/\n",
    "2. Numerous articles from datascience.stackexchange.com, medium.com and of course github, stackoverflow and materials from Softuni Machine Learning 2019 course."
   ]
  },
  {
   "cell_type": "code",
   "execution_count": null,
   "metadata": {},
   "outputs": [],
   "source": []
  }
 ],
 "metadata": {
  "kernelspec": {
   "display_name": "Python 3",
   "language": "python",
   "name": "python3"
  },
  "language_info": {
   "codemirror_mode": {
    "name": "ipython",
    "version": 3
   },
   "file_extension": ".py",
   "mimetype": "text/x-python",
   "name": "python",
   "nbconvert_exporter": "python",
   "pygments_lexer": "ipython3",
   "version": "3.7.3"
  }
 },
 "nbformat": 4,
 "nbformat_minor": 2
}
